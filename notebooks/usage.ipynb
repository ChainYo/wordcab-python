{
 "cells": [
  {
   "cell_type": "markdown",
   "metadata": {},
   "source": [
    "# Wordcab Python\n",
    "\n",
    "Notebook for demonstrating the usage of the wordcab python package."
   ]
  },
  {
   "cell_type": "markdown",
   "metadata": {},
   "source": [
    "## Installation\n",
    "\n",
    "```bash\n",
    "$ pip install wordcab\n",
    "```"
   ]
  },
  {
   "cell_type": "code",
   "execution_count": 1,
   "metadata": {},
   "outputs": [
    {
     "name": "stdout",
     "output_type": "stream",
     "text": [
      "Looking in indexes: https://pypi.org/simple, https://packagecloud.io/github/git-lfs/pypi/simple\n",
      "Requirement already satisfied: wordcab in /home/chainyo/miniconda3/envs/sdk/lib/python3.8/site-packages (0.1.0)\n",
      "Requirement already satisfied: requests>=2.28.1 in /home/chainyo/miniconda3/envs/sdk/lib/python3.8/site-packages (from wordcab) (2.28.1)\n",
      "Requirement already satisfied: validators>=0.20.0 in /home/chainyo/miniconda3/envs/sdk/lib/python3.8/site-packages (from wordcab) (0.20.0)\n",
      "Requirement already satisfied: click>=8.0.1 in /home/chainyo/miniconda3/envs/sdk/lib/python3.8/site-packages (from wordcab) (8.1.3)\n",
      "Requirement already satisfied: idna<4,>=2.5 in /home/chainyo/miniconda3/envs/sdk/lib/python3.8/site-packages (from requests>=2.28.1->wordcab) (3.4)\n",
      "Requirement already satisfied: charset-normalizer<3,>=2 in /home/chainyo/miniconda3/envs/sdk/lib/python3.8/site-packages (from requests>=2.28.1->wordcab) (2.1.1)\n",
      "Requirement already satisfied: certifi>=2017.4.17 in /home/chainyo/miniconda3/envs/sdk/lib/python3.8/site-packages (from requests>=2.28.1->wordcab) (2022.9.24)\n",
      "Requirement already satisfied: urllib3<1.27,>=1.21.1 in /home/chainyo/miniconda3/envs/sdk/lib/python3.8/site-packages (from requests>=2.28.1->wordcab) (1.26.12)\n",
      "Requirement already satisfied: decorator>=3.4.0 in /home/chainyo/miniconda3/envs/sdk/lib/python3.8/site-packages (from validators>=0.20.0->wordcab) (5.1.1)\n"
     ]
    }
   ],
   "source": [
    "!pip install wordcab"
   ]
  },
  {
   "cell_type": "markdown",
   "metadata": {},
   "source": [
    "## Login\n",
    "\n",
    "```bash\n",
    "$ wordcab login\n",
    "```"
   ]
  },
  {
   "cell_type": "markdown",
   "metadata": {},
   "source": [
    "## Usage"
   ]
  },
  {
   "cell_type": "code",
   "execution_count": 2,
   "metadata": {},
   "outputs": [],
   "source": [
    "from wordcab import Client\n",
    "from wordcab import (\n",
    "    change_speaker_labels,\n",
    "    delete_job,\n",
    "    get_stats,\n",
    "    list_jobs,\n",
    "    list_summaries,\n",
    "    list_transcripts,\n",
    "    retrieve_job,\n",
    "    retrieve_summary,\n",
    "    retrieve_transcript,\n",
    "    start_extract,\n",
    "    start_summary,\n",
    ")"
   ]
  },
  {
   "cell_type": "markdown",
   "metadata": {},
   "source": [
    "#### Simple functions"
   ]
  },
  {
   "cell_type": "code",
   "execution_count": 3,
   "metadata": {},
   "outputs": [
    {
     "data": {
      "text/plain": [
       "Stats(account_email='thomas@wordcab.com', plan='free', monthly_request_limit='1000', request_count=152, minutes_summarized=10, transcripts_summarized=147, metered_charge='$26.76', min_created='2022-10-17T17:42:06Z', max_created='2022-11-17T17:42:06Z', tags=None)"
      ]
     },
     "execution_count": 3,
     "metadata": {},
     "output_type": "execute_result"
    }
   ],
   "source": [
    "stats = get_stats()\n",
    "stats"
   ]
  },
  {
   "cell_type": "markdown",
   "metadata": {},
   "source": [
    "#### Client"
   ]
  },
  {
   "cell_type": "code",
   "execution_count": 4,
   "metadata": {},
   "outputs": [
    {
     "data": {
      "text/plain": [
       "ListJobs(page_count=5, next_page='https://wordcab.com/api/v1/jobs/?page=2', results=[SummarizeJob(display_name='sample_1', job_name='job_6sLhhXBcX9zAyn95sA33VYHsGGGNA4L8', source='generic', job_status='SummaryComplete', metadata=None, settings=None, tags=None, time_started='2022-11-22T22:40:48.319286Z', time_completed='2022-11-22T22:40:51.310166+00:00', transcript_id='generic_transcript_RK6XpoPNJrAL6wc299vr8RTtD7xyDrUc', summary_details={'summary_id': 'reason_conclusion_summary_BTmHWj4re9QhCjJndPKqJkJSTnW4WFNe', 'summary_type': 'reason_conclusion'}), SummarizeJob(display_name='no_speaker_healthcare', job_name='job_MT3EmSmKnUsN5C5NSxthdQAUAANdVGWD', source='deepgram', job_status='SummaryComplete', metadata=None, settings=None, tags=None, time_started='2022-11-22T19:37:41.690594Z', time_completed='2022-11-22T19:37:48.168106+00:00', transcript_id='deepgram_transcript_8EVw3Rv66iFvXsBj6vYe7ZC3KiR6NciM', summary_details={'summary_id': 'no_speaker_summary_QerLSHaX92sgpKCKey93o9FntLNJdPXG', 'summary_type': 'no_speaker'}), SummarizeJob(display_name='conversational_healthcare', job_name='job_NTmRmkovzfazuKZN7V2TbYvgijwyGxbC', source='deepgram', job_status='SummaryComplete', metadata=None, settings=None, tags=None, time_started='2022-11-22T19:37:30.103777Z', time_completed='2022-11-22T19:37:38.152930+00:00', transcript_id='deepgram_transcript_JygARxoR4aQ6tFSQvWvmqWQdEcfpWGpX', summary_details={'summary_id': 'conversational_summary_D9EeTpvFnB6ZAQrhijaLCGxzGypU5gK3', 'summary_type': 'conversational'}), SummarizeJob(display_name='narrative_healthcare', job_name='job_VfEyEEAvHv3VH25zvxu84pqUGUyHSJga', source='deepgram', job_status='SummaryComplete', metadata=None, settings=None, tags=None, time_started='2022-11-22T19:37:13.351305Z', time_completed='2022-11-22T19:37:28.400641+00:00', transcript_id='deepgram_transcript_R4vR43w4GbipU9FQMGKqutZewuBuUFS9', summary_details={'summary_id': 'narrative_summary_JZ3XS5Kr2VmTqwhjwum9ZwoJNLVRTTef', 'summary_type': 'narrative'}), SummarizeJob(display_name='reason_conclusion_healthcare', job_name='job_33DzuR8rTBRJESFxeSsrjpk2XnipheN9', source='deepgram', job_status='SummaryComplete', metadata=None, settings=None, tags=None, time_started='2022-11-22T19:37:07.183566Z', time_completed='2022-11-22T19:37:10.903320+00:00', transcript_id='deepgram_transcript_YQRhkM8DYo27XoTEW2RrnUymkzRGjE6m', summary_details={'summary_id': 'reason_conclusion_summary_QoP8riBM7xYZ2wN4B8vwZ6jNvY3oQTAh', 'summary_type': 'reason_conclusion'}), SummarizeJob(display_name='no_speaker_support_travel', job_name='job_Rc6WhoRMoDpryjwmSFGQqpCM2QkYFEBg', source='deepgram', job_status='SummaryComplete', metadata=None, settings=None, tags=None, time_started='2022-11-22T19:36:55.358264Z', time_completed='2022-11-22T19:37:01.381435+00:00', transcript_id='deepgram_transcript_ARAYUjfoc7a9PgM5RhnvFQGDpuLgrbig', summary_details={'summary_id': 'no_speaker_summary_ABp62Pghc7pxE3umoP4bBGqjynPp7MbB', 'summary_type': 'no_speaker'}), SummarizeJob(display_name='conversational_support_travel', job_name='job_eKCZhaHA3Cy62HfgGTpquiLPxLfETZax', source='deepgram', job_status='SummaryComplete', metadata=None, settings=None, tags=None, time_started='2022-11-22T19:36:43.814560Z', time_completed='2022-11-22T19:36:50.916135+00:00', transcript_id='deepgram_transcript_3TSTjGTxuGtotvaHHpVYwjNggvXEFLmx', summary_details={'summary_id': 'conversational_summary_HNh9SQNmvMPWzbp7YWxworMGJSdjQRdb', 'summary_type': 'conversational'}), SummarizeJob(display_name='narrative_support_travel', job_name='job_aqrij7PECz2FZJLZouoXz9hhHufWpvUj', source='deepgram', job_status='SummaryComplete', metadata=None, settings=None, tags=None, time_started='2022-11-22T19:36:27.084275Z', time_completed='2022-11-22T19:36:39.180817+00:00', transcript_id='deepgram_transcript_7fqoJhimdTGbyHZvyxywtsMv9kVzhVw6', summary_details={'summary_id': 'narrative_summary_HEwUNRnysApzgBvBUrgZj4Tf36444noR', 'summary_type': 'narrative'}), SummarizeJob(display_name='reason_conclusion_support_travel', job_name='job_4D5XBqjBNx4vUCgEFJ2uUwtjKKdoxUHW', source='deepgram', job_status='SummaryComplete', metadata=None, settings=None, tags=None, time_started='2022-11-22T19:36:10.493278Z', time_completed='2022-11-22T19:36:23.394031+00:00', transcript_id='deepgram_transcript_Y7QxcD9u6RGmsh2ebYGB6xAmVMw8VaLN', summary_details={'summary_id': 'reason_conclusion_summary_b5So5zBeKW8pBrqdcFTTx9gnEk9ftdLC', 'summary_type': 'reason_conclusion'}), SummarizeJob(display_name='no_speaker_earnings_call', job_name='job_9GNzZ78R665TM98SCUnPjLW4ahNJ2Xg3', source='deepgram', job_status='SummaryComplete', metadata=None, settings=None, tags=None, time_started='2022-11-22T19:35:37.947726Z', time_completed='2022-11-22T19:36:05.993530+00:00', transcript_id='deepgram_transcript_FPM3wnuMCcfJKuQkWcxL2LAfXFq9Ea6X', summary_details={'summary_id': 'no_speaker_summary_D3NJrLQtS4feSnPvoJ6CfbtyRSUqfsAd', 'summary_type': 'no_speaker'}), SummarizeJob(display_name='conversational_earnings_call', job_name='job_6M5mfuymcmCCMrkXjTcexejfS3R2qfjc', source='deepgram', job_status='SummaryComplete', metadata=None, settings=None, tags=None, time_started='2022-11-22T19:35:14.907696Z', time_completed='2022-11-22T19:35:34.906006+00:00', transcript_id='deepgram_transcript_MHbj955QfCW5R96VjuFz6U8idZgM5Ehn', summary_details={'summary_id': 'conversational_summary_5aQTfZjbcggveHjG7nCYxvDboUipWnRk', 'summary_type': 'conversational'}), SummarizeJob(display_name='narrative_earnings_call', job_name='job_XEueu3TjLPPmf8wX4MovssE94aXZV5Z3', source='deepgram', job_status='SummaryComplete', metadata=None, settings=None, tags=None, time_started='2022-11-22T19:34:46.643323Z', time_completed='2022-11-22T19:35:10.845602+00:00', transcript_id='deepgram_transcript_a2m3uhHdGghRVGmjmoUhCPw9m58moxLk', summary_details={'summary_id': 'narrative_summary_AQ74x4CsqFfAAy7tDwfeijg98DCHTn5W', 'summary_type': 'narrative'}), SummarizeJob(display_name='reason_conclusion_earnings_call', job_name='job_9wGJvExkZuADBmsskvUsb6ZeKFf54aYW', source='deepgram', job_status='SummaryComplete', metadata=None, settings=None, tags=None, time_started='2022-11-22T19:34:29.122476Z', time_completed='2022-11-22T19:34:39.931595+00:00', transcript_id='deepgram_transcript_RmGN3CPLiXZLEiPMwcmbyv3rkmpJWNBn', summary_details={'summary_id': 'reason_conclusion_summary_8vZaJeUZenq2y5W4QXwCwTx42MkCqF97', 'summary_type': 'reason_conclusion'}), SummarizeJob(display_name='no_speaker_meeting_multi_speaker', job_name='job_HGQrBMXptxfgZSeH8iswYrBNFxaRwjML', source='deepgram', job_status='SummaryComplete', metadata=None, settings=None, tags=None, time_started='2022-11-22T19:34:00.419278Z', time_completed='2022-11-22T19:34:25.629840+00:00', transcript_id='deepgram_transcript_XMbVsniQ2UiKHubeSGjZhKBp9Jvr2yFr', summary_details={'summary_id': 'no_speaker_summary_3ufdBt5VhSQSzbstkCMBRjwvG2VEHe6u', 'summary_type': 'no_speaker'}), SummarizeJob(display_name='conversational_meeting_multi_speaker', job_name='job_9cKQghQEkpfTPHtr6rWYpQEck3Wg6Mbb', source='deepgram', job_status='SummaryComplete', metadata=None, settings=None, tags=None, time_started='2022-11-22T19:33:01.455342Z', time_completed='2022-11-22T19:33:56.452726+00:00', transcript_id='deepgram_transcript_3gkbruMhfYF5SDthfgNFmDUVegVc9Ctr', summary_details={'summary_id': 'conversational_summary_7NFuZCFLoNLQVrr7TNTg6jaFCfKqqxif', 'summary_type': 'conversational'}), SummarizeJob(display_name='narrative_meeting_multi_speaker', job_name='job_LbboQ5BVDY4oyDrJUArQRWHottEsCS5J', source='deepgram', job_status='SummaryComplete', metadata=None, settings=None, tags=None, time_started='2022-11-22T19:32:17.704373Z', time_completed='2022-11-22T19:32:56.265467+00:00', transcript_id='deepgram_transcript_HYKsgf9xGdsjwJbqAm2gNzYZUjP9HKQU', summary_details={'summary_id': 'narrative_summary_VJHVDs79zSs8ussxw8ZyWaV6KeUniuDo', 'summary_type': 'narrative'}), SummarizeJob(display_name='reason_conclusion_meeting_multi_speaker', job_name='job_KmM5uyRvarPh6yurz4dusgQuQSZ9GzEc', source='deepgram', job_status='SummaryComplete', metadata=None, settings=None, tags=None, time_started='2022-11-22T19:32:10.518034Z', time_completed='2022-11-22T19:32:16.102400+00:00', transcript_id='deepgram_transcript_ZVuNPGCcaHDdN2BSNazEmWDC2dhr9M7u', summary_details={'summary_id': 'reason_conclusion_summary_VMZGS5HNvc9Fa2r5tJLo5Cwn7ES2AWnv', 'summary_type': 'reason_conclusion'}), SummarizeJob(display_name='no_speaker_lecture', job_name='job_ddZmXko8T9DYQvxp7Lj8HeWTXj3QXnBe', source='deepgram', job_status='SummaryComplete', metadata=None, settings=None, tags=None, time_started='2022-11-22T19:31:47.330750Z', time_completed='2022-11-22T19:32:06.904314+00:00', transcript_id='deepgram_transcript_YQohe9aHXD2MaRFWGqev6AM62yWX2ten', summary_details={'summary_id': 'no_speaker_summary_FuPctRQjPFjvRh6q2phdd6vVcBRWH79j', 'summary_type': 'no_speaker'}), SummarizeJob(display_name='conversational_lecture', job_name='job_UHcsBR7fdA7iW2w9tnPEcoWrXh5PgZjY', source='deepgram', job_status='SummaryComplete', metadata=None, settings=None, tags=None, time_started='2022-11-22T19:31:24.612832Z', time_completed='2022-11-22T19:31:43.775745+00:00', transcript_id='deepgram_transcript_Bu3eEW3Et28jQaBUqy6hmmNGBQDxeJWz', summary_details={'summary_id': 'conversational_summary_G44RHUR6RAxB4ndbmykzK6sfNG2vRboS', 'summary_type': 'conversational'}), SummarizeJob(display_name='narrative_lecture', job_name='job_CtaTMuv9vVAD9dxSvFbC7MzRDWDDeFtj', source='deepgram', job_status='SummaryComplete', metadata=None, settings=None, tags=None, time_started='2022-11-22T19:30:56.289813Z', time_completed='2022-11-22T19:31:21.502566+00:00', transcript_id='deepgram_transcript_488f8ytpqqKKmgBo6K4CRSAUyyjZgv2J', summary_details={'summary_id': 'narrative_summary_ChFVmdv9KGQYG9WK8fUChDk8qhCpoveB', 'summary_type': 'narrative'}), SummarizeJob(display_name='reason_conclusion_lecture', job_name='job_dVwA3xpc5pYbL8QbFhgQLZUt8rMKhmaB', source='deepgram', job_status='SummaryComplete', metadata=None, settings=None, tags=None, time_started='2022-11-22T19:30:43.693056Z', time_completed='2022-11-22T19:30:52.641068+00:00', transcript_id='deepgram_transcript_aGgUsspUUdSLpRHvp6XEQK2pFWNe4M2w', summary_details={'summary_id': 'reason_conclusion_summary_Usd7mC7BXnqdkSg3zXfMSv2Vwxp7NA8x', 'summary_type': 'reason_conclusion'}), SummarizeJob(display_name='no_speaker_podcast', job_name='job_ChRXfqHt2c4LcohpiG5kPPeyW3sEtWs3', source='deepgram', job_status='SummaryComplete', metadata=None, settings=None, tags=None, time_started='2022-11-22T19:30:20.302962Z', time_completed='2022-11-22T19:30:40.021143+00:00', transcript_id='deepgram_transcript_coipHsTAqaGD6M5HfcN4s7GUh7FuJ3Js', summary_details={'summary_id': 'no_speaker_summary_QrR3SqK5KH2fLJfuVb2wzWYEHAY2F82c', 'summary_type': 'no_speaker'}), SummarizeJob(display_name='conversational_podcast', job_name='job_CSkXHDpdEXY8vcGyyBAE6we6SLm7HZ8g', source='deepgram', job_status='SummaryComplete', metadata=None, settings=None, tags=None, time_started='2022-11-22T19:29:46.796316Z', time_completed='2022-11-22T19:30:17.154280+00:00', transcript_id='deepgram_transcript_HxFuoPab8FNMGjnk9x77yx3Tj6Qee9nz', summary_details={'summary_id': 'conversational_summary_G6iLdJNiHakVsnE6XsPwcHNzUZtFA88a', 'summary_type': 'conversational'}), SummarizeJob(display_name='narrative_podcast', job_name='job_8PKUhwurn9Sy8WqJf4h2HmRDCx7zdEPr', source='deepgram', job_status='SummaryComplete', metadata=None, settings=None, tags=None, time_started='2022-11-22T19:29:12.997900Z', time_completed='2022-11-22T19:29:40.710170+00:00', transcript_id='deepgram_transcript_Poq6Dg6DGdRTSJSpkxZzaSbz67hMr9xb', summary_details={'summary_id': 'narrative_summary_7C3M6fabmQuj4ncZwPvCFvQ4MLauX52Y', 'summary_type': 'narrative'}), SummarizeJob(display_name='reason_conclusion_podcast', job_name='job_cVBjWogA6tsDa9nV7soEELzSKzLLns6K', source='deepgram', job_status='SummaryComplete', metadata=None, settings=None, tags=None, time_started='2022-11-22T19:29:05.365017Z', time_completed='2022-11-22T19:29:09.039279+00:00', transcript_id='deepgram_transcript_AndCdN5devnMx7nG6mh7bFAaEzmWsUP5', summary_details={'summary_id': 'reason_conclusion_summary_Za3qM2Np8k2ic49ybAxhuSSpajeAaaG2', 'summary_type': 'reason_conclusion'}), SummarizeJob(display_name='no_speaker_meeting_2person', job_name='job_XRZZFtN4VtWsh3FnyuHpD3CJiZFBk3rU', source='deepgram', job_status='SummaryComplete', metadata=None, settings=None, tags=None, time_started='2022-11-22T19:28:41.444647Z', time_completed='2022-11-22T19:28:58.942989+00:00', transcript_id='deepgram_transcript_ZfqcfexrfFsG6wqmbZhhaPyYV4jfnZ7w', summary_details={'summary_id': 'no_speaker_summary_4M4LBhpJXXvWYJT6tJdU6FotcFP9Rkdn', 'summary_type': 'no_speaker'}), SummarizeJob(display_name='conversational_meeting_2person', job_name='job_BQ7Zc2AWUAs9DsqaBaQNjwbXiL7yXQQ4', source='deepgram', job_status='SummaryComplete', metadata=None, settings=None, tags=None, time_started='2022-11-22T19:28:18.974709Z', time_completed='2022-11-22T19:28:35.219192+00:00', transcript_id='deepgram_transcript_bkDSvnEcPBfWd3iyJy6YSCnrgp7VCsQK', summary_details={'summary_id': 'conversational_summary_KigPDadCykWMHYRF8Fyrbu8XCnCPwq3k', 'summary_type': 'conversational'}), SummarizeJob(display_name='narrative_meeting_2person', job_name='job_dBXWA9xBgdqePkU3LVu3z6v7PKNvZPfQ', source='deepgram', job_status='SummaryComplete', metadata=None, settings=None, tags=None, time_started='2022-11-22T19:27:51.239067Z', time_completed='2022-11-22T19:28:13.852528+00:00', transcript_id='deepgram_transcript_ZRJjJR7mbHvcfjz2UFkmA4XJfnKoB5Jp', summary_details={'summary_id': 'narrative_summary_dtq75Zbsf6byn4pZLgcMEVnMRBqGHvdK', 'summary_type': 'narrative'}), SummarizeJob(display_name='reason_conclusion_meeting_2person', job_name='job_B9bN9ozDv7X3QCKEdkcpPGWwnEbHuDDf', source='deepgram', job_status='SummaryComplete', metadata=None, settings=None, tags=None, time_started='2022-11-22T19:27:34.175009Z', time_completed='2022-11-22T19:27:45.329084+00:00', transcript_id='deepgram_transcript_8tr2JoBEr6KxK4bpQh5Febs9o4aUdDLZ', summary_details={'summary_id': 'reason_conclusion_summary_PiPr8G5EP9oAW5HgHrEjiNdi7dDg7xCg', 'summary_type': 'reason_conclusion'}), SummarizeJob(display_name='reason_conclusion_meeting_2person', job_name='job_GVQLmxr779VuDtyi7swTAyXo2eYDp8pt', source='deepgram', job_status='SummaryComplete', metadata=None, settings=None, tags=None, time_started='2022-11-22T19:27:18.607591Z', time_completed='2022-11-22T19:27:22.148988+00:00', transcript_id='deepgram_transcript_CfLYVBhDPrTv92qEhFZEX35a2Vaqdu5H', summary_details={'summary_id': 'reason_conclusion_summary_RuuPHVmdhyUcU8ZCbSwywzryGcsRYtnF', 'summary_type': 'reason_conclusion'}), SummarizeJob(display_name='no_speaker_sample_1', job_name='job_73GzSPnjHELJ8FPeopJ7apmGxYpHyi3D', source='deepgram', job_status='SummaryComplete', metadata=None, settings=None, tags=None, time_started='2022-11-22T19:26:25.650050Z', time_completed='2022-11-22T19:26:28.380729+00:00', transcript_id='deepgram_transcript_59jxNWFNiDDjSSe8qsBhidupbALqztLj', summary_details={'summary_id': 'no_speaker_summary_M8pM56anhbkxrmYxSLJJyjnnF9wUt2Ef', 'summary_type': 'no_speaker'}), SummarizeJob(display_name='conversational_sample_1', job_name='job_QiBQERP3SAgpQ3s6PEKR6mRUFxnKmY7i', source='deepgram', job_status='SummaryComplete', metadata=None, settings=None, tags=None, time_started='2022-11-22T19:26:19.701698Z', time_completed='2022-11-22T19:26:23.036888+00:00', transcript_id='deepgram_transcript_Dt96j9ATyjSJiGLznYEUDJ3b7YukPGeL', summary_details={'summary_id': 'conversational_summary_JJH4e7foDjp8FnBz4TDXKAnFgMwBpLXZ', 'summary_type': 'conversational'}), SummarizeJob(display_name='narrative_sample_1', job_name='job_Mk3SAVriuco47jnV872qRZPDcnmnTPqA', source='deepgram', job_status='SummaryComplete', metadata=None, settings=None, tags=None, time_started='2022-11-22T19:26:13.637478Z', time_completed='2022-11-22T19:26:17.789193+00:00', transcript_id='deepgram_transcript_d4MSQPf8z7WgNjrhvUdXbnyhABeJumZT', summary_details={'summary_id': 'narrative_summary_MTiJkxX43vJrrUpiCtJj3MZGzfnzqPWG', 'summary_type': 'narrative'}), SummarizeJob(display_name='reason_conclusion_sample_1', job_name='job_Dcb53jRhwWtnKvsSxwMyjicgPsuGfDNE', source='deepgram', job_status='SummaryComplete', metadata=None, settings=None, tags=None, time_started='2022-11-22T19:26:07.806409Z', time_completed='2022-11-22T19:26:10.768406+00:00', transcript_id='deepgram_transcript_WkDjMabXt7rQWKmhCZYbH76fYmuFFtQx', summary_details={'summary_id': 'reason_conclusion_summary_QEe43yTjhrN7X6p3n3HYMaJFoV3qrHKN', 'summary_type': 'reason_conclusion'}), SummarizeJob(display_name='reason_conclusion_sample_1', job_name='job_QCHNMgJGKNj9JH3LZJRs4i8KgdpcFyxL', source='deepgram', job_status='ItemQueued', metadata=None, settings=None, tags=None, time_started='2022-11-22T19:19:01.384397Z', time_completed=None, transcript_id='deepgram_transcript_P4vwZc2nfzJ7p5gxvNgf2ZhEmwgFzhAz', summary_details={'summary_id': 'reason_conclusion_summary_5x6LhW3S6VWYFU5B8fV4Z2sXDtxs32j5', 'summary_type': 'reason_conclusion'}), SummarizeJob(display_name='test-sdk-audio', job_name='job_9Q4Y3DNaDbRB8oiTEQgpNgc6LBsu8RBE', source='audio', job_status='SummaryComplete', metadata=None, settings=None, tags=None, time_started='2022-11-22T09:55:57.770914Z', time_completed='2022-11-22T10:02:33.965638+00:00', transcript_id='audio_transcript_35gcQLRB6oqh24WSJY4Vhrup4gmEDrHh', summary_details={'summary_id': 'narrative_summary_buSjhZnjr5tCVABoQumodGfsoXH45nKN', 'summary_type': 'narrative'}), SummarizeJob(display_name='test-sdk-json', job_name='job_APwxq8XarQtY6EJrfLS4txikv5WuYMRQ', source='generic', job_status='SummaryComplete', metadata=None, settings=None, tags=None, time_started='2022-11-22T09:55:57.478618Z', time_completed='2022-11-22T10:02:32.069465+00:00', transcript_id='generic_transcript_TAVXxuqQGTXXLELCBLLNta4YxhpMpB7L', summary_details={'summary_id': 'narrative_summary_G8wCEaUAP7gnadi7D7tRARPiXgfyYHoi', 'summary_type': 'narrative'}), SummarizeJob(display_name='test-sdk-txt', job_name='job_AivJdPiKuhVBRN7WHAARUtsKzCBad8ee', source='generic', job_status='SummaryComplete', metadata=None, settings=None, tags=None, time_started='2022-11-22T09:55:57.353292Z', time_completed='2022-11-22T10:02:16.948981+00:00', transcript_id='generic_transcript_dBhQvhH2bSoPzUwtRHitVDwLZfERhqUX', summary_details={'summary_id': 'reason_conclusion_summary_UbhZXqCeGbQw9v4CJDZFHKqfr8VszKC7', 'summary_type': 'reason_conclusion'}), ExtractJob(display_name='test-extraction-json', job_name='job_TwoospwWEogb3SQKbmtBKjnqArFnPaRu', source='generic', job_status='ExtractionComplete', metadata=None, settings=None, tags=None, time_started='2022-11-22T09:55:57.233214Z', time_completed='2022-11-22T10:02:57.772909+00:00', transcript_id='generic_transcript_Swwvnk2V2MPzsKFi2hT89ywqf857Aa5G'), ExtractJob(display_name='test-extraction-txt', job_name='job_QzsHeTwkyY8VLgFQ4LcJ7KjTkhnM9aK5', source='generic', job_status='ExtractionComplete', metadata=None, settings=None, tags=None, time_started='2022-11-22T09:55:57.129108Z', time_completed='2022-11-22T10:02:55.900138+00:00', transcript_id='generic_transcript_YEpD9dQi4gxBrVqnrAxDQJoRVLCcouxH'), SummarizeJob(display_name='test-summary-api', job_name='job_S8UiM7UsWvTcxYVpAezGZSKqCauUgL2s', source='generic', job_status='SummaryComplete', metadata=None, settings=None, tags=None, time_started='2022-11-22T09:55:56.673524Z', time_completed='2022-11-22T10:03:03.453667+00:00', transcript_id='generic_transcript_WZgchqiREA5qEce9ZCFz2dmHdzJ722PF', summary_details={'summary_id': 'conversational_summary_7RUyhC4YXd7iQLGedb9UbPafqfcgNwDq', 'summary_type': 'conversational'}), ExtractJob(display_name='test-extract-api', job_name='job_ZdXwTaSroqWoyHq5cjphaSJWfwKdb6MH', source='generic', job_status='ExtractionComplete', metadata=None, settings=None, tags=None, time_started='2022-11-22T09:55:56.560895Z', time_completed='2022-11-22T10:02:54.064378+00:00', transcript_id='generic_transcript_Wrzvok3Uj4bn9sngvS7hhr4ENXAbhdJT'), SummarizeJob(display_name='test-sdk-audio', job_name='job_YGQJUVT4RGny7i34NQZwjK8m5y35j3n4', source='audio', job_status='SummaryComplete', metadata=None, settings=None, tags=None, time_started='2022-11-22T09:54:39.139256Z', time_completed='2022-11-22T10:02:33.662771+00:00', transcript_id='audio_transcript_e9hdVbXNcQnKe3PbD5bEP4L9aEbJxA3P', summary_details={'summary_id': 'narrative_summary_e4Xqbcy9WBkdpZQoGR2E84kcBskcjFLW', 'summary_type': 'narrative'}), SummarizeJob(display_name='test-sdk-json', job_name='job_cUihQynyN6bU5hTXkbxo8CrGsF5UBqB7', source='generic', job_status='SummaryComplete', metadata=None, settings=None, tags=None, time_started='2022-11-22T09:54:37.894513Z', time_completed='2022-11-22T10:02:28.591151+00:00', transcript_id='generic_transcript_QXPEUE2kTmEPU9Di4qx94x7AYEK2ZtvX', summary_details={'summary_id': 'narrative_summary_cKNjwjhT4E5ncoWhgYeYZ7Lk7aaGpQq2', 'summary_type': 'narrative'}), SummarizeJob(display_name='test-sdk-txt', job_name='job_Et4vQnkbcYSeuPdfdA3eMRUmNfNSvLPe', source='generic', job_status='SummaryComplete', metadata=None, settings=None, tags=None, time_started='2022-11-22T09:54:37.623236Z', time_completed='2022-11-22T10:02:16.723469+00:00', transcript_id='generic_transcript_CyXDRnRvti676TAmtP8rRVzeqMXnrsQE', summary_details={'summary_id': 'reason_conclusion_summary_6WBkhapTjZxDYWDvJSGBJL7VYjRhFFi6', 'summary_type': 'reason_conclusion'}), ExtractJob(display_name='test-extraction-json', job_name='job_99nA6DQmkfVkLwEYr7juUKxBAySWnc2Y', source='generic', job_status='ExtractionComplete', metadata=None, settings=None, tags=None, time_started='2022-11-22T09:54:37.337601Z', time_completed='2022-11-22T10:02:52.253426+00:00', transcript_id='generic_transcript_V7SWeXZBUtfyFVjWo76RcwWV6GpWG2N8'), ExtractJob(display_name='test-extraction-txt', job_name='job_bizqijaEkpniWwjzKNfsaimwUrUYNhnk', source='generic', job_status='ExtractionComplete', metadata=None, settings=None, tags=None, time_started='2022-11-22T09:54:37.043363Z', time_completed='2022-11-22T10:02:50.388188+00:00', transcript_id='generic_transcript_KC7jGa47ZJdhKifRkAPxeHhDX3Ci7dR3'), SummarizeJob(display_name='test-summary-api', job_name='job_GVBapVpMNJ9r2Xn29UJ5YJWkqqujtXxy', source='generic', job_status='SummaryComplete', metadata=None, settings=None, tags=None, time_started='2022-11-22T09:54:35.890992Z', time_completed='2022-11-22T10:03:01.823670+00:00', transcript_id='generic_transcript_GUF2HcpY7vhPboEq6LLZcvw8HgVcifSW', summary_details={'summary_id': 'conversational_summary_YzGLEdohaE829rr84SpprwPHPXe3wcLN', 'summary_type': 'conversational'}), ExtractJob(display_name='test-extract-api', job_name='job_8QYpkmrEMcQs7fiy6PYvUihyjrf7sUq3', source='generic', job_status='ExtractionComplete', metadata=None, settings=None, tags=None, time_started='2022-11-22T09:54:35.608595Z', time_completed='2022-11-22T10:02:48.627673+00:00', transcript_id='generic_transcript_GMLfaQFBEFJL9qVQL3svDjueRegzJquL'), SummarizeJob(display_name='test-sdk-audio', job_name='job_EVHWQyoZEoHm2247w4sGT5sx8PQBfvNa', source='audio', job_status='SummaryComplete', metadata=None, settings=None, tags=None, time_started='2022-11-22T09:54:10.574066Z', time_completed='2022-11-22T10:02:32.609247+00:00', transcript_id='audio_transcript_bGY6obrJiRv3LL3aVtShNJqHvaf3ZqMH', summary_details={'summary_id': 'narrative_summary_RVd4WnnpTPgUukj6ARrGVAKjAnhmV5P9', 'summary_type': 'narrative'}), SummarizeJob(display_name='test-sdk-json', job_name='job_dS5QH3ZZhKimCevuGJCxM7kPvNiiGPSb', source='generic', job_status='SummaryComplete', metadata=None, settings=None, tags=None, time_started='2022-11-22T09:54:09.656890Z', time_completed='2022-11-22T10:02:27.536947+00:00', transcript_id='generic_transcript_GyrFaMq3PHJv8yMgPD7Rzgc7NMDszbwd', summary_details={'summary_id': 'narrative_summary_YwibvmAWMDupwiQV9yx872kiKmCvti7M', 'summary_type': 'narrative'}), SummarizeJob(display_name='test-sdk-txt', job_name='job_9ckWVZyBBAwWkGtoEUMRKFN7VvzrS7Du', source='generic', job_status='SummaryComplete', metadata=None, settings=None, tags=None, time_started='2022-11-22T09:54:09.376112Z', time_completed='2022-11-22T10:02:14.632787+00:00', transcript_id='generic_transcript_Ra3FoCvDayrYgvZ5mXw9swxQBNeVbgBt', summary_details={'summary_id': 'reason_conclusion_summary_FWHSJmt2LfKoZBFV7SudoGwHrAvnvcpr', 'summary_type': 'reason_conclusion'}), ExtractJob(display_name='test-extraction-json', job_name='job_ZpbMLRsYKhD3NyYhnGLGKNkJjk4diSAU', source='generic', job_status='ExtractionComplete', metadata=None, settings=None, tags=None, time_started='2022-11-22T09:54:09.088674Z', time_completed='2022-11-22T10:02:46.676102+00:00', transcript_id='generic_transcript_EWWGknjeqLhhXDiNgX2HGBsVX9Pdkuf7'), ExtractJob(display_name='test-extraction-txt', job_name='job_Ya7X6k59QYAVEYv2L6dj3NrQh8jB7X79', source='generic', job_status='ExtractionComplete', metadata=None, settings=None, tags=None, time_started='2022-11-22T09:54:08.816073Z', time_completed='2022-11-22T10:02:44.743924+00:00', transcript_id='generic_transcript_FCVBfk7Vkaw6734nbysXcQ4HvMMUgKcA'), SummarizeJob(display_name='test-summary-api', job_name='job_AXjWdstxBDPhQmZuQY9Nzu4YKmdceRpy', source='generic', job_status='SummaryComplete', metadata=None, settings=None, tags=None, time_started='2022-11-22T09:54:07.555485Z', time_completed='2022-11-22T10:03:00.302128+00:00', transcript_id='generic_transcript_HwC9oXtG85yeLaoXhCLNu9hMkThbFSvw', summary_details={'summary_id': 'conversational_summary_Ri2xwGSdXD2SLxZdmSbQJkaPwTDxzqXD', 'summary_type': 'conversational'}), ExtractJob(display_name='test-extract-api', job_name='job_TCEbMZgWX7kdBMeD6sF43GGCWDCVj5zC', source='generic', job_status='ExtractionComplete', metadata=None, settings=None, tags=None, time_started='2022-11-22T09:54:07.148427Z', time_completed='2022-11-22T10:02:42.943491+00:00', transcript_id='generic_transcript_d7DMTFLCoW9ntXqFjPZjMktaJa2Podb2'), SummarizeJob(display_name='test-sdk-audio', job_name='job_Q8qdzhjPCJrr6ECu2yiaPYTppr5kgA7p', source='audio', job_status='SummaryComplete', metadata=None, settings=None, tags=None, time_started='2022-11-22T09:53:55.280703Z', time_completed='2022-11-22T10:02:29.271468+00:00', transcript_id='audio_transcript_Jv3M98VYjc8s9x8KtZmNwitfXT7xbsXR', summary_details={'summary_id': 'narrative_summary_FHUVWGybzTR6yJcmUABXRYjXpM7nfrz6', 'summary_type': 'narrative'}), SummarizeJob(display_name='test-sdk-json', job_name='job_4WLguGPmBGiGj3tk324RYsUcfftW7fe5', source='generic', job_status='SummaryComplete', metadata=None, settings=None, tags=None, time_started='2022-11-22T09:53:54.310813Z', time_completed='2022-11-22T10:02:31.848488+00:00', transcript_id='generic_transcript_LFxLcZiVuR7yQjByHTL8hj65KJ9onEHU', summary_details={'summary_id': 'narrative_summary_bthA5ZQKq2CsKmiSDCqLUB6yb3TrNGmn', 'summary_type': 'narrative'}), SummarizeJob(display_name='test-sdk-txt', job_name='job_PqyMieFXtJVgUM86pQeokcm92WMoCcXw', source='generic', job_status='SummaryComplete', metadata=None, settings=None, tags=None, time_started='2022-11-22T09:53:54.034338Z', time_completed='2022-11-22T10:02:14.440105+00:00', transcript_id='generic_transcript_HFosuktqvrupLFzr3Jxa3kECk4CtPVLj', summary_details={'summary_id': 'reason_conclusion_summary_Mh6a5qSzydzM5gJAr9smWEnHT9DGEhcU', 'summary_type': 'reason_conclusion'}), ExtractJob(display_name='test-extraction-json', job_name='job_NG6UmvYDgiBUCkaNcTE5cofR9iQkyriK', source='generic', job_status='ExtractionComplete', metadata=None, settings=None, tags=None, time_started='2022-11-22T09:53:53.766575Z', time_completed='2022-11-22T10:02:40.993566+00:00', transcript_id='generic_transcript_NNXSUDwLBGtbwgtMUfALRy8UFX5ahzdx'), ExtractJob(display_name='test-extraction-txt', job_name='job_LvRsE9BFWZTuaXjMcSuLRMFa3u8c4Yg2', source='generic', job_status='ExtractionComplete', metadata=None, settings=None, tags=None, time_started='2022-11-22T09:53:53.493927Z', time_completed='2022-11-22T10:02:39.111830+00:00', transcript_id='generic_transcript_PBxNbNhReS4yjX9TWm4hFdULfgCXHfyZ'), SummarizeJob(display_name='test-summary-api', job_name='job_EqSMkZmqwMCd9WSwAxTUzCrmzAfctMCk', source='generic', job_status='SummaryComplete', metadata=None, settings=None, tags=None, time_started='2022-11-22T09:53:52.251164Z', time_completed='2022-11-22T10:02:58.806503+00:00', transcript_id='generic_transcript_TdZFpof2qsuQX8tWrWeed6FonZANwrnb', summary_details={'summary_id': 'conversational_summary_3KETBmTnx5ZXmBCfUKvyBngdQxTcSRJn', 'summary_type': 'conversational'}), ExtractJob(display_name='test-extract-api', job_name='job_7iRkwXhkWKjKFWSSz2UxTzUFuDV232yd', source='generic', job_status='ExtractionComplete', metadata=None, settings=None, tags=None, time_started='2022-11-22T09:53:51.975512Z', time_completed='2022-11-22T10:02:37.363120+00:00', transcript_id='generic_transcript_9za6FpbkhcZAjGweFEPQReJz6TLhHCpx'), SummarizeJob(display_name='test-sdk-audio', job_name='job_ZDG84ALmisvd6WnnBhzvsMCJWdsNv4Zr', source='audio', job_status='SummaryComplete', metadata=None, settings=None, tags=None, time_started='2022-11-22T09:53:49.441927Z', time_completed='2022-11-22T10:02:30.976344+00:00', transcript_id='audio_transcript_SKqMBuuCeu5UWbcidpRbHwDHDU2A3TQ7', summary_details={'summary_id': 'narrative_summary_MbHtNNQTq5Ncwyq9Kt9YGvVA3f4AsebX', 'summary_type': 'narrative'}), SummarizeJob(display_name='test-sdk-json', job_name='job_D2hR25fn2ZQjYkR3GhWdMDDvYbjy8twA', source='generic', job_status='SummaryComplete', metadata=None, settings=None, tags=None, time_started='2022-11-22T09:53:49.295406Z', time_completed='2022-11-22T10:02:26.677077+00:00', transcript_id='generic_transcript_Lm5SDuz49YNdj2fqQ6KpankVk2bHgBib', summary_details={'summary_id': 'narrative_summary_WfV4gyb6BSF59VsvGaPmz2p7qbi3Xx5c', 'summary_type': 'narrative'}), SummarizeJob(display_name='test-sdk-txt', job_name='job_VLTE4SaWqq2vvVVn7yVshozWRr23Sbr8', source='generic', job_status='SummaryComplete', metadata=None, settings=None, tags=None, time_started='2022-11-22T09:53:49.223085Z', time_completed='2022-11-22T10:02:12.380311+00:00', transcript_id='generic_transcript_XMfuCzVyPkvwXqtHBL3So86LeJq2EVjf', summary_details={'summary_id': 'reason_conclusion_summary_GotoNxMSyR6Roef7uDsZ4cVaGQTUp2C5', 'summary_type': 'reason_conclusion'}), ExtractJob(display_name='test-extraction-json', job_name='job_fsGWUAhd7kaEhw7MunwKX2EWzpTJa8oG', source='generic', job_status='ExtractionComplete', metadata=None, settings=None, tags=None, time_started='2022-11-22T09:53:49.146942Z', time_completed='2022-11-22T10:02:35.423559+00:00', transcript_id='generic_transcript_Bj2sNzCVQXFt2nHJAjZ6oN4pCMVq8ywC'), ExtractJob(display_name='test-extraction-txt', job_name='job_AEn7kuBXDmtTgbeJS76X5tYcDw8iaTp4', source='generic', job_status='ExtractionComplete', metadata=None, settings=None, tags=None, time_started='2022-11-22T09:53:49.075359Z', time_completed='2022-11-22T10:02:33.682600+00:00', transcript_id='generic_transcript_K6iRiaSCNXzVeebUCJLyQ38yUgakkot9'), SummarizeJob(display_name='test-summary-api', job_name='job_Zh4GMYbvyXHMMKNscaNU7UdCj6dpxGY3', source='generic', job_status='SummaryComplete', metadata=None, settings=None, tags=None, time_started='2022-11-22T09:53:48.722192Z', time_completed='2022-11-22T10:02:57.368360+00:00', transcript_id='generic_transcript_4QekVFcdKz3DJWSfUuC8HKrhQnkLxmCo', summary_details={'summary_id': 'conversational_summary_DoV3BgH8R5nouxLk8mS4FtEy8PxuQ5RA', 'summary_type': 'conversational'}), ExtractJob(display_name='test-extract-api', job_name='job_ZYRPYELBSLE63gStuqCy4RMi99a8WVH6', source='generic', job_status='ExtractionComplete', metadata=None, settings=None, tags=None, time_started='2022-11-22T09:53:48.623892Z', time_completed='2022-11-22T10:02:31.783015+00:00', transcript_id='generic_transcript_UZvXGCqKfBNo89pXyvs9sdiwpSsfSZTw'), SummarizeJob(display_name='test-sdk-audio', job_name='job_U3p872Az6qypCNrf2uMtnLnZwySR5Dr4', source='audio', job_status='SummaryComplete', metadata=None, settings=None, tags=None, time_started='2022-11-22T09:53:44.527185Z', time_completed='2022-11-22T10:02:30.359562+00:00', transcript_id='audio_transcript_QMng3MC2XsGvwaN8FZ6P4Rg3ggpVjo2v', summary_details={'summary_id': 'narrative_summary_B9H8RwgCQgeJ4vCgGi6dURwendNUvKGC', 'summary_type': 'narrative'}), SummarizeJob(display_name='test-sdk-json', job_name='job_94VKCJrVao7sQsmTL5MXhwEutMyZiGAs', source='generic', job_status='SummaryComplete', metadata=None, settings=None, tags=None, time_started='2022-11-22T09:53:44.333540Z', time_completed='2022-11-22T10:02:25.840571+00:00', transcript_id='generic_transcript_TXitBgDTd37B5MzmdH2NdyHXUvFAf8N8', summary_details={'summary_id': 'narrative_summary_TfN2X7oiHSTUUi2ZR6RXGxTAHBeryxXQ', 'summary_type': 'narrative'}), SummarizeJob(display_name='test-sdk-txt', job_name='job_GA5ourWWmSbfLkkeFJSvwuRaHKZYzx8S', source='generic', job_status='SummaryComplete', metadata=None, settings=None, tags=None, time_started='2022-11-22T09:53:44.241603Z', time_completed='2022-11-22T10:02:12.255923+00:00', transcript_id='generic_transcript_TRccfUVnB5GKMGjzb3Ld3VdezJe9TctH', summary_details={'summary_id': 'reason_conclusion_summary_H8Spmi8crQFEF5CoBvimd2ePdqkVf6ZC', 'summary_type': 'reason_conclusion'}), ExtractJob(display_name='test-extraction-json', job_name='job_7PfALYZvX65HWWyCzeT8Xn2pHw9LskU7', source='generic', job_status='ExtractionComplete', metadata=None, settings=None, tags=None, time_started='2022-11-22T09:53:44.138955Z', time_completed='2022-11-22T10:02:29.845892+00:00', transcript_id='generic_transcript_X7vP26JWNchdYWgKhwrk334QhDc9jGY5'), ExtractJob(display_name='test-extraction-txt', job_name='job_Kvchn9Lw6pJbJtb56RSMGMLBYDB2Bmq8', source='generic', job_status='ExtractionComplete', metadata=None, settings=None, tags=None, time_started='2022-11-22T09:53:44.055335Z', time_completed='2022-11-22T10:02:27.991362+00:00', transcript_id='generic_transcript_XStyMjVJtybnd79PFk2VcAeeHnEoMKbG'), SummarizeJob(display_name='test-summary-api', job_name='job_SMka7yqYfd5KouryUq9MUiS4awRVXdXi', source='generic', job_status='SummaryComplete', metadata=None, settings=None, tags=None, time_started='2022-11-22T09:53:43.765926Z', time_completed='2022-11-22T10:02:55.813575+00:00', transcript_id='generic_transcript_WyVacbunE7JJP8uBTPwqUtjfkGvzzLaC', summary_details={'summary_id': 'conversational_summary_U8zE2ibMA2kNUBgFGkp3FHcPayXwmsd9', 'summary_type': 'conversational'}), ExtractJob(display_name='test-extract-api', job_name='job_UZtvmEqumJyUEMTWN2e79TeXPmsNM94k', source='generic', job_status='ExtractionComplete', metadata=None, settings=None, tags=None, time_started='2022-11-22T09:53:43.694103Z', time_completed='2022-11-22T10:02:26.155587+00:00', transcript_id='generic_transcript_UArc7XFnTmhozBSsV5A3z44veATxXfeW'), SummarizeJob(display_name='test-sdk-audio', job_name='job_D5n9wC7ozTkPDQq2Hgd5ijhFurE3QH8b', source='audio', job_status='SummaryComplete', metadata=None, settings=None, tags=None, time_started='2022-11-21T22:20:23.469998Z', time_completed='2022-11-21T22:28:41.719640+00:00', transcript_id='audio_transcript_DoDDD3VsKyDqFPDevBQCavdGrhkjvpGJ', summary_details={'summary_id': 'narrative_summary_H5SJ32iTVBKoa7EUbhGdRBdNEhbppYK2', 'summary_type': 'narrative'}), SummarizeJob(display_name='test-sdk-json', job_name='job_C6LmJcRTeGvYt5mPAn9AjbSurkk2mqyi', source='generic', job_status='SummaryComplete', metadata=None, settings=None, tags=None, time_started='2022-11-21T22:20:22.371192Z', time_completed='2022-11-21T22:28:36.963709+00:00', transcript_id='generic_transcript_C5kgon3rZHRtB3DwRuPBUiX5CLUDHGWN', summary_details={'summary_id': 'narrative_summary_NeYLZWzmUw6Z6izsyMUXLtVH8UgiAdye', 'summary_type': 'narrative'}), SummarizeJob(display_name='test-sdk-txt', job_name='job_Gcsq7zJ8HZk9nvEQwXTwRmB3BuZTS9Sd', source='generic', job_status='SummaryComplete', metadata=None, settings=None, tags=None, time_started='2022-11-21T22:20:22.077101Z', time_completed='2022-11-21T22:28:18.728368+00:00', transcript_id='generic_transcript_GtefDsV2gr3TZXmsJuThhLWE8oY7hfCZ', summary_details={'summary_id': 'reason_conclusion_summary_ZSFmyHiCrc3jL6tqDkURyi9uLV4xWCjW', 'summary_type': 'reason_conclusion'}), ExtractJob(display_name='test-extraction-json', job_name='job_6u28S62xBFtmRt2twhLSjfPWMzzCnhNp', source='generic', job_status='ExtractionComplete', metadata=None, settings=None, tags=None, time_started='2022-11-21T22:20:21.773289Z', time_completed='2022-11-21T22:28:49.050363+00:00', transcript_id='generic_transcript_LmcStzQAFNpLncbgG7ECmzr2tpkjDNYc'), ExtractJob(display_name='test-extraction-txt', job_name='job_622SdvgtRe2CJjeEJjszkxk8rXvEncqC', source='generic', job_status='ExtractionComplete', metadata=None, settings=None, tags=None, time_started='2022-11-21T22:20:21.475401Z', time_completed='2022-11-21T22:28:48.053701+00:00', transcript_id='generic_transcript_Awsz8sSJhYe5aQChetycmp43euJjhXeK'), SummarizeJob(display_name='test-summary-api', job_name='job_4cS3CgekPDjCXpXXwRN22oKsYj8HZLtw', source='generic', job_status='SummaryComplete', metadata=None, settings=None, tags=None, time_started='2022-11-21T22:20:20.260766Z', time_completed='2022-11-21T22:29:00.576588+00:00', transcript_id='generic_transcript_R2aqwdtbmSj5SBHGZeg32NzxgQxKH8iQ', summary_details={'summary_id': 'conversational_summary_C6PU5QbpAdvAgyeVa6Sv5TVKzCRQBhfJ', 'summary_type': 'conversational'}), ExtractJob(display_name='test-extract-api', job_name='job_LJ5DWkfN37itYsjiA33scvgxosNU2c72', source='generic', job_status='ExtractionComplete', metadata=None, settings=None, tags=None, time_started='2022-11-21T22:20:19.946816Z', time_completed='2022-11-21T22:28:47.128445+00:00', transcript_id='generic_transcript_U7f6dTYYV56TNyjboadaqaGXwkKYZwT3'), SummarizeJob(display_name='test-sdk-audio', job_name='job_AftkCC6sYD3JhWtno7QTzEiSgavRWKfq', source='audio', job_status='SummaryComplete', metadata=None, settings=None, tags=None, time_started='2022-11-21T22:19:58.935252Z', time_completed='2022-11-21T22:28:41.764816+00:00', transcript_id='audio_transcript_c7rpY24iSYzWC4DKHkbTSWj7TJAngSQ6', summary_details={'summary_id': 'narrative_summary_JHnXeYRKyxiHnsGLzj2jqy6jexkYEtLy', 'summary_type': 'narrative'}), SummarizeJob(display_name='test-sdk-json', job_name='job_E6E3L5kx7whkLgaA39fo7Czm9vzAXkG9', source='generic', job_status='SummaryComplete', metadata=None, settings=None, tags=None, time_started='2022-11-21T22:19:58.335017Z', time_completed='2022-11-21T22:28:35.267600+00:00', transcript_id='generic_transcript_RxMDifXPCtuAsHJyxYj2SQck2P4GCMGJ', summary_details={'summary_id': 'narrative_summary_CNZxdTQoz82f3ncE7B3kgScBUhtYjbjv', 'summary_type': 'narrative'}), SummarizeJob(display_name='test-sdk-txt', job_name='job_6NJAysPkwfwnjKkB9L87n9fND9WzwVnj', source='generic', job_status='SummaryComplete', metadata=None, settings=None, tags=None, time_started='2022-11-21T22:19:58.094367Z', time_completed='2022-11-21T22:28:18.591242+00:00', transcript_id='generic_transcript_93ZMYaK9tQ5smczixCzNutxCkgUyptaA', summary_details={'summary_id': 'reason_conclusion_summary_Bdre3HE5heehRgQngcBNfHaXCBe2SyTS', 'summary_type': 'reason_conclusion'}), ExtractJob(display_name='test-extraction-json', job_name='job_a8j4HMKBLJ6rQZV4yMYVz43kngk6AfTT', source='generic', job_status='ExtractionComplete', metadata=None, settings=None, tags=None, time_started='2022-11-21T22:19:57.895343Z', time_completed='2022-11-21T22:28:46.149867+00:00', transcript_id='generic_transcript_59djb8w78y6ye2QmnwmSWxSH4KftN8Xa'), ExtractJob(display_name='test-extraction-txt', job_name='job_LukhKGvhW9XQ2kMZDF58edUP5cC3khWj', source='generic', job_status='ExtractionComplete', metadata=None, settings=None, tags=None, time_started='2022-11-21T22:19:57.717530Z', time_completed='2022-11-21T22:28:45.220465+00:00', transcript_id='generic_transcript_Mbxd6iY4mtDjCsdxJhCKzPEhdGjUTGZi'), SummarizeJob(display_name='test-sdk-audio', job_name='job_MXxBxHGGf6dM4aZxDNc93YaRQ38JKTU3', source='audio', job_status='SummaryComplete', metadata=None, settings=None, tags=None, time_started='2022-11-21T22:19:57.490707Z', time_completed='2022-11-21T22:28:38.703619+00:00', transcript_id='audio_transcript_7q4LwTTDcqpXiECBLeNkuYSP5LnZA5F6', summary_details={'summary_id': 'narrative_summary_3zAJksCwB4e5AcuZecPLU3f7daWaZEi9', 'summary_type': 'narrative'}), SummarizeJob(display_name='test-summary-api', job_name='job_7ppKqLFYTjDvuZkL6SRjtvLu9ChWwLuz', source='generic', job_status='SummaryComplete', metadata=None, settings=None, tags=None, time_started='2022-11-21T22:19:56.808022Z', time_completed='2022-11-21T22:28:59.057121+00:00', transcript_id='generic_transcript_3erLMr2iAihokXmdA8f2P6jH3QoXguUT', summary_details={'summary_id': 'conversational_summary_aqMWLBtXaHcp3ihAADqDgLJhaACBEZtA', 'summary_type': 'conversational'}), ExtractJob(display_name='test-extract-api', job_name='job_QTwDZ2fPMFb4XicZc9PC8zPUJrrBbV3t', source='generic', job_status='ExtractionComplete', metadata=None, settings=None, tags=None, time_started='2022-11-21T22:19:56.577120Z', time_completed='2022-11-21T22:28:44.171348+00:00', transcript_id='generic_transcript_98YmFZhwfXQUH5rsbYsjBsUtWJXdiDsx'), SummarizeJob(display_name='test-sdk-json', job_name='job_9XF3FfbHDMkxo6Yg7xgz8thc4LiniQw7', source='generic', job_status='SummaryComplete', metadata=None, settings=None, tags=None, time_started='2022-11-21T22:19:56.467184Z', time_completed='2022-11-21T22:28:33.605100+00:00', transcript_id='generic_transcript_UCEr6iSzfTb3RuqTwkhQ6mwGRdjMpkFw', summary_details={'summary_id': 'narrative_summary_PLUnqVbQ7rrXU6QxPJ5uUU6t5D2EX5Fn', 'summary_type': 'narrative'}), SummarizeJob(display_name='test-sdk-txt', job_name='job_KniC5V9oWg8zjJJ8HeGwxjRJ3VcMsEdF', source='generic', job_status='SummaryComplete', metadata=None, settings=None, tags=None, time_started='2022-11-21T22:19:56.164996Z', time_completed='2022-11-21T22:28:16.317174+00:00', transcript_id='generic_transcript_GCtsziBsvgP9RtFxqdDwBxNQbFRvHg5Q', summary_details={'summary_id': 'reason_conclusion_summary_R2SEomKXzFk7GUg7GruVxghiaxugB6AN', 'summary_type': 'reason_conclusion'}), ExtractJob(display_name='test-extraction-json', job_name='job_YspPHDqsFXKLkL6dFZTMyR3dXeekjQea', source='generic', job_status='ExtractionComplete', metadata=None, settings=None, tags=None, time_started='2022-11-21T22:19:55.880073Z', time_completed='2022-11-21T22:28:43.347820+00:00', transcript_id='generic_transcript_aW3t6pUCcD5NMTQUf39dcj5dLj47gkcC'), ExtractJob(display_name='test-extraction-txt', job_name='job_Vf3qpUMhVE6i64DW7akKvnxbisoAkFC5', source='generic', job_status='ExtractionComplete', metadata=None, settings=None, tags=None, time_started='2022-11-21T22:19:55.581466Z', time_completed='2022-11-21T22:28:42.214736+00:00', transcript_id='generic_transcript_JvRqYnYmxHm4efAUHey4E9WKWvvjHfHh'), SummarizeJob(display_name='test-summary-api', job_name='job_FWLyMoshJUXGkBKqA5AuDEd27V4YMiQv', source='generic', job_status='SummaryComplete', metadata=None, settings=None, tags=None, time_started='2022-11-21T22:19:54.360517Z', time_completed='2022-11-21T22:28:57.553534+00:00', transcript_id='generic_transcript_CjyjFB3hMSvuEa34rP8djix5f8XpyKtg', summary_details={'summary_id': 'conversational_summary_ZrbQq9yyssVVKunQqU52PY7EzrVLfKG5', 'summary_type': 'conversational'}), ExtractJob(display_name='test-extract-api', job_name='job_ZdcsgeqSzs6V5jW8X2GU4ASRYEuDZXwm', source='generic', job_status='ExtractionComplete', metadata=None, settings=None, tags=None, time_started='2022-11-21T22:19:54.073523Z', time_completed='2022-11-21T22:28:41.446663+00:00', transcript_id='generic_transcript_T5v4nUEpptPXp8xdPyU7Kvgbg5nw6TPx'), SummarizeJob(display_name='test-sdk-audio', job_name='job_c2fdnHPtwbuXmojVGVAw4HuGX432xLvm', source='audio', job_status='SummaryComplete', metadata=None, settings=None, tags=None, time_started='2022-11-21T22:19:48.225560Z', time_completed='2022-11-21T22:28:44.112136+00:00', transcript_id='audio_transcript_XGtvDNNNarrUyixq9NHXEVGPJD8XDX7C', summary_details={'summary_id': 'narrative_summary_TaLYyBVZPhvTkHtJPVmN5LjB5w6CXyuV', 'summary_type': 'narrative'}), SummarizeJob(display_name='test-sdk-json', job_name='job_B3bwN6VHmpuQ9ELobvMt6hgaTW6fnNgQ', source='generic', job_status='SummaryComplete', metadata=None, settings=None, tags=None, time_started='2022-11-21T22:19:47.530026Z', time_completed='2022-11-21T22:28:31.799634+00:00', transcript_id='generic_transcript_L79RWUdkH8juPHA68yiNLb7jCPTcPYQZ', summary_details={'summary_id': 'narrative_summary_Unvbk5jsterdJNCtFj96V7YcFqcT7sS8', 'summary_type': 'narrative'})])"
      ]
     },
     "execution_count": 4,
     "metadata": {},
     "output_type": "execute_result"
    }
   ],
   "source": [
    "with Client() as client:\n",
    "    jobs = client.list_jobs(client)\n",
    "\n",
    "jobs"
   ]
  },
  {
   "cell_type": "markdown",
   "metadata": {},
   "source": [
    "## Start Summary\n",
    "\n",
    "`start_summary` usage.\n",
    "\n",
    "#### With Text\n",
    "\n",
    "Let's start a summary of a transcript stored as a text file."
   ]
  },
  {
   "cell_type": "code",
   "execution_count": 5,
   "metadata": {},
   "outputs": [
    {
     "data": {
      "text/plain": [
       "SummarizeJob(display_name='sample_1', job_name='job_9o3gdw8dZh4G9X26uWmFvC47mvmxPfLz', source='generic', job_status='Pending', metadata=None, settings=JobSettings(ephemeral_data=False, pipeline='transcribe,summarize', only_api=True, split_long_utterances=False), tags=None, time_started=None, time_completed=None, transcript_id=None, summary_details=None)"
      ]
     },
     "execution_count": 5,
     "metadata": {},
     "output_type": "execute_result"
    }
   ],
   "source": [
    "from wordcab.core_objects import GenericSource\n",
    "\n",
    "source = GenericSource(\"./samples/sample_1.txt\")\n",
    "job = start_summary(\n",
    "    source_object=source,\n",
    "    display_name=\"sample_1\",\n",
    "    summary_type=\"no_speaker\",\n",
    "    summary_length=3,\n",
    "    tags=[\"sample\", \"text\"],\n",
    ")\n",
    "job"
   ]
  },
  {
   "cell_type": "code",
   "execution_count": 6,
   "metadata": {},
   "outputs": [
    {
     "data": {
      "text/plain": [
       "SummarizeJob(display_name='sample_1', job_name='job_9o3gdw8dZh4G9X26uWmFvC47mvmxPfLz', source='generic', job_status='SummaryComplete', metadata={}, settings={'pipeline': 'transcribe,summarize', 'split_long_utterances': False, 'ephemeral_data': False, 'only_api': True}, tags=['sample', 'text'], time_started='2022-11-22T22:55:49.252174Z', time_completed='2022-11-22T22:55:51.250285+00:00', transcript_id='generic_transcript_SqkenpiqJUDC73abnHsJbuKY7jwJvZGk', summary_details={'summary_id': 'no_speaker_summary_StPuKPKgr6cLP9hm4HqRaCRqHcwnovk2', 'summary_type': 'no_speaker', 'summary_lens': [3]})"
      ]
     },
     "execution_count": 6,
     "metadata": {},
     "output_type": "execute_result"
    }
   ],
   "source": [
    "# Checking the job status\n",
    "job = retrieve_job(job.job_name)\n",
    "job"
   ]
  },
  {
   "cell_type": "code",
   "execution_count": 9,
   "metadata": {},
   "outputs": [
    {
     "data": {
      "text/plain": [
       "'no_speaker_summary_StPuKPKgr6cLP9hm4HqRaCRqHcwnovk2'"
      ]
     },
     "execution_count": 9,
     "metadata": {},
     "output_type": "execute_result"
    }
   ],
   "source": [
    "summary_id = job.summary_details[\"summary_id\"]\n",
    "summary_id"
   ]
  },
  {
   "cell_type": "code",
   "execution_count": 10,
   "metadata": {},
   "outputs": [
    {
     "ename": "TypeError",
     "evalue": "__init__() got an unexpected keyword argument 'end_index'",
     "output_type": "error",
     "traceback": [
      "\u001b[0;31m---------------------------------------------------------------------------\u001b[0m",
      "\u001b[0;31mTypeError\u001b[0m                                 Traceback (most recent call last)",
      "Cell \u001b[0;32mIn [10], line 1\u001b[0m\n\u001b[0;32m----> 1\u001b[0m retrieve_summary(summary_id)\n",
      "File \u001b[0;32m~/miniconda3/envs/sdk/lib/python3.8/site-packages/wordcab/api.py:412\u001b[0m, in \u001b[0;36mretrieve_summary\u001b[0;34m(summary_id, api_key)\u001b[0m\n\u001b[1;32m    394\u001b[0m \u001b[39m@no_type_check\u001b[39m\n\u001b[1;32m    395\u001b[0m \u001b[39mdef\u001b[39;00m \u001b[39mretrieve_summary\u001b[39m(summary_id: \u001b[39mstr\u001b[39m, api_key: Optional[\u001b[39mstr\u001b[39m] \u001b[39m=\u001b[39m \u001b[39mNone\u001b[39;00m) \u001b[39m-\u001b[39m\u001b[39m>\u001b[39m BaseSummary:\n\u001b[1;32m    396\u001b[0m     \u001b[39m\"\"\"\u001b[39;00m\n\u001b[1;32m    397\u001b[0m \u001b[39m    Retrieve a summary by id.\u001b[39;00m\n\u001b[1;32m    398\u001b[0m \n\u001b[0;32m   (...)\u001b[0m\n\u001b[1;32m    410\u001b[0m \u001b[39m        The summary object.\u001b[39;00m\n\u001b[1;32m    411\u001b[0m \u001b[39m    \"\"\"\u001b[39;00m\n\u001b[0;32m--> 412\u001b[0m     \u001b[39mreturn\u001b[39;00m request(method\u001b[39m=\u001b[39;49m\u001b[39m\"\u001b[39;49m\u001b[39mretrieve_summary\u001b[39;49m\u001b[39m\"\u001b[39;49m, summary_id\u001b[39m=\u001b[39;49msummary_id, api_key\u001b[39m=\u001b[39;49mapi_key)\n",
      "File \u001b[0;32m~/miniconda3/envs/sdk/lib/python3.8/site-packages/wordcab/api.py:52\u001b[0m, in \u001b[0;36mrequest\u001b[0;34m(method, api_key, **kwargs)\u001b[0m\n\u001b[1;32m     50\u001b[0m \u001b[39m\"\"\"Make a request to the Wordcab API.\"\"\"\u001b[39;00m\n\u001b[1;32m     51\u001b[0m \u001b[39mwith\u001b[39;00m Client(api_key\u001b[39m=\u001b[39mapi_key) \u001b[39mas\u001b[39;00m client:\n\u001b[0;32m---> 52\u001b[0m     \u001b[39mreturn\u001b[39;00m client\u001b[39m.\u001b[39;49mrequest(method\u001b[39m=\u001b[39;49mmethod, \u001b[39m*\u001b[39;49m\u001b[39m*\u001b[39;49mkwargs)\n",
      "File \u001b[0;32m~/miniconda3/envs/sdk/lib/python3.8/site-packages/wordcab/client.py:105\u001b[0m, in \u001b[0;36mClient.request\u001b[0;34m(self, method, **kwargs)\u001b[0m\n\u001b[1;32m    103\u001b[0m \u001b[39mif\u001b[39;00m \u001b[39mnot\u001b[39;00m method:\n\u001b[1;32m    104\u001b[0m     \u001b[39mraise\u001b[39;00m \u001b[39mValueError\u001b[39;00m(\u001b[39m\"\u001b[39m\u001b[39mYou must specify a method.\u001b[39m\u001b[39m\"\u001b[39m)\n\u001b[0;32m--> 105\u001b[0m \u001b[39mreturn\u001b[39;00m \u001b[39mgetattr\u001b[39;49m(\u001b[39mself\u001b[39;49m, method)(\u001b[39m*\u001b[39;49m\u001b[39m*\u001b[39;49mkwargs)\n",
      "File \u001b[0;32m~/miniconda3/envs/sdk/lib/python3.8/site-packages/wordcab/client.py:539\u001b[0m, in \u001b[0;36mClient.retrieve_summary\u001b[0;34m(self, summary_id)\u001b[0m\n\u001b[1;32m    536\u001b[0m summaries: Dict[\u001b[39mstr\u001b[39m, Dict[\u001b[39mstr\u001b[39m, List[StructuredSummary]]] \u001b[39m=\u001b[39m {}\n\u001b[1;32m    537\u001b[0m \u001b[39mfor\u001b[39;00m key, value \u001b[39min\u001b[39;00m structured_summaries\u001b[39m.\u001b[39mitems():\n\u001b[1;32m    538\u001b[0m     summaries[key] \u001b[39m=\u001b[39m {\n\u001b[0;32m--> 539\u001b[0m         \u001b[39m\"\u001b[39m\u001b[39mstructured_summary\u001b[39m\u001b[39m\"\u001b[39m: [\n\u001b[1;32m    540\u001b[0m             StructuredSummary(\u001b[39m*\u001b[39m\u001b[39m*\u001b[39mitems)\n\u001b[1;32m    541\u001b[0m             \u001b[39mfor\u001b[39;00m items \u001b[39min\u001b[39;00m value[\u001b[39m\"\u001b[39m\u001b[39mstructured_summary\u001b[39m\u001b[39m\"\u001b[39m]\n\u001b[1;32m    542\u001b[0m         ]\n\u001b[1;32m    543\u001b[0m     }\n\u001b[1;32m    544\u001b[0m summary\u001b[39m.\u001b[39msummary \u001b[39m=\u001b[39m summaries\n\u001b[1;32m    545\u001b[0m \u001b[39mreturn\u001b[39;00m summary\n",
      "File \u001b[0;32m~/miniconda3/envs/sdk/lib/python3.8/site-packages/wordcab/client.py:540\u001b[0m, in \u001b[0;36m<listcomp>\u001b[0;34m(.0)\u001b[0m\n\u001b[1;32m    536\u001b[0m summaries: Dict[\u001b[39mstr\u001b[39m, Dict[\u001b[39mstr\u001b[39m, List[StructuredSummary]]] \u001b[39m=\u001b[39m {}\n\u001b[1;32m    537\u001b[0m \u001b[39mfor\u001b[39;00m key, value \u001b[39min\u001b[39;00m structured_summaries\u001b[39m.\u001b[39mitems():\n\u001b[1;32m    538\u001b[0m     summaries[key] \u001b[39m=\u001b[39m {\n\u001b[1;32m    539\u001b[0m         \u001b[39m\"\u001b[39m\u001b[39mstructured_summary\u001b[39m\u001b[39m\"\u001b[39m: [\n\u001b[0;32m--> 540\u001b[0m             StructuredSummary(\u001b[39m*\u001b[39;49m\u001b[39m*\u001b[39;49mitems)\n\u001b[1;32m    541\u001b[0m             \u001b[39mfor\u001b[39;00m items \u001b[39min\u001b[39;00m value[\u001b[39m\"\u001b[39m\u001b[39mstructured_summary\u001b[39m\u001b[39m\"\u001b[39m]\n\u001b[1;32m    542\u001b[0m         ]\n\u001b[1;32m    543\u001b[0m     }\n\u001b[1;32m    544\u001b[0m summary\u001b[39m.\u001b[39msummary \u001b[39m=\u001b[39m summaries\n\u001b[1;32m    545\u001b[0m \u001b[39mreturn\u001b[39;00m summary\n",
      "\u001b[0;31mTypeError\u001b[0m: __init__() got an unexpected keyword argument 'end_index'"
     ]
    }
   ],
   "source": [
    "retrieve_summary(summary_id)"
   ]
  },
  {
   "cell_type": "markdown",
   "metadata": {},
   "source": [
    "#### With Audio"
   ]
  },
  {
   "cell_type": "code",
   "execution_count": null,
   "metadata": {},
   "outputs": [],
   "source": [
    "from wordcab.core_objects import AudioSource\n",
    "\n",
    "source = AudioSource(\"./samples/sample_1.mp3\")\n",
    "job = start_summary(\n",
    "    source_object=source,\n",
    "    display_name=\"sample_1\",\n",
    "    summary_type=\"narrative\",\n",
    "    summary_length=3,\n",
    "    tags=[\"sample\", \"audio\"],\n",
    ")"
   ]
  }
 ],
 "metadata": {
  "kernelspec": {
   "display_name": "Python 3.8.15 ('sdk')",
   "language": "python",
   "name": "python3"
  },
  "language_info": {
   "codemirror_mode": {
    "name": "ipython",
    "version": 3
   },
   "file_extension": ".py",
   "mimetype": "text/x-python",
   "name": "python",
   "nbconvert_exporter": "python",
   "pygments_lexer": "ipython3",
   "version": "3.8.15"
  },
  "orig_nbformat": 4,
  "vscode": {
   "interpreter": {
    "hash": "a5e7802a138ef4612170ff921f873c06e52bcb268c5c5935b6c729d00f394ddb"
   }
  }
 },
 "nbformat": 4,
 "nbformat_minor": 2
}
