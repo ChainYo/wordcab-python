{
 "cells": [
  {
   "cell_type": "markdown",
   "metadata": {},
   "source": [
    "# Wordcab Python\n",
    "\n",
    "Notebook for demonstrating the usage of the Wordcab python package that allows you to launch summarization tasks."
   ]
  },
  {
   "cell_type": "markdown",
   "metadata": {},
   "source": [
    "## Installation\n",
    "\n",
    "```bash\n",
    "$ pip install wordcab\n",
    "```"
   ]
  },
  {
   "cell_type": "code",
   "execution_count": 5,
   "metadata": {},
   "outputs": [
    {
     "name": "stdout",
     "output_type": "stream",
     "text": [
      "Looking in indexes: https://pypi.org/simple, https://packagecloud.io/github/git-lfs/pypi/simple\n",
      "Requirement already satisfied: wordcab==0.2 in /home/chainyo/miniconda3/envs/sdk/lib/python3.8/site-packages (0.2.0)\n",
      "Requirement already satisfied: click>=8.0.1 in /home/chainyo/miniconda3/envs/sdk/lib/python3.8/site-packages (from wordcab==0.2) (8.1.3)\n",
      "Requirement already satisfied: validators>=0.20.0 in /home/chainyo/miniconda3/envs/sdk/lib/python3.8/site-packages (from wordcab==0.2) (0.20.0)\n",
      "Requirement already satisfied: requests>=2.28.1 in /home/chainyo/miniconda3/envs/sdk/lib/python3.8/site-packages (from wordcab==0.2) (2.28.1)\n",
      "Requirement already satisfied: charset-normalizer<3,>=2 in /home/chainyo/miniconda3/envs/sdk/lib/python3.8/site-packages (from requests>=2.28.1->wordcab==0.2) (2.1.1)\n",
      "Requirement already satisfied: urllib3<1.27,>=1.21.1 in /home/chainyo/miniconda3/envs/sdk/lib/python3.8/site-packages (from requests>=2.28.1->wordcab==0.2) (1.26.12)\n",
      "Requirement already satisfied: idna<4,>=2.5 in /home/chainyo/miniconda3/envs/sdk/lib/python3.8/site-packages (from requests>=2.28.1->wordcab==0.2) (3.4)\n",
      "Requirement already satisfied: certifi>=2017.4.17 in /home/chainyo/miniconda3/envs/sdk/lib/python3.8/site-packages (from requests>=2.28.1->wordcab==0.2) (2022.9.24)\n",
      "Requirement already satisfied: decorator>=3.4.0 in /home/chainyo/miniconda3/envs/sdk/lib/python3.8/site-packages (from validators>=0.20.0->wordcab==0.2) (5.1.1)\n",
      "Note: you may need to restart the kernel to use updated packages.\n"
     ]
    }
   ],
   "source": [
    "%pip install wordcab==0.2"
   ]
  },
  {
   "cell_type": "markdown",
   "metadata": {},
   "source": [
    "## Login\n",
    "\n",
    "```bash\n",
    "$ wordcab login\n",
    "```"
   ]
  },
  {
   "cell_type": "markdown",
   "metadata": {},
   "source": [
    "## Usage"
   ]
  },
  {
   "cell_type": "code",
   "execution_count": 6,
   "metadata": {},
   "outputs": [],
   "source": [
    "from wordcab import (\n",
    "    change_speaker_labels,\n",
    "    delete_job,\n",
    "    get_stats,\n",
    "    list_jobs,\n",
    "    list_summaries,\n",
    "    list_transcripts,\n",
    "    retrieve_job,\n",
    "    retrieve_summary,\n",
    "    retrieve_transcript,\n",
    "    start_extract,\n",
    "    start_summary,\n",
    ")"
   ]
  },
  {
   "cell_type": "markdown",
   "metadata": {},
   "source": [
    "#### Simple functions"
   ]
  },
  {
   "cell_type": "code",
   "execution_count": 7,
   "metadata": {},
   "outputs": [
    {
     "data": {
      "text/plain": [
       "Stats(account_email='thomas@wordcab.com', plan='free', monthly_request_limit='1000', request_count=152, minutes_summarized=10, transcripts_summarized=147, metered_charge='$26.76', min_created='2022-10-17T17:42:06Z', max_created='2022-11-17T17:42:06Z', tags=None)"
      ]
     },
     "execution_count": 7,
     "metadata": {},
     "output_type": "execute_result"
    }
   ],
   "source": [
    "stats = get_stats()\n",
    "stats"
   ]
  },
  {
   "cell_type": "markdown",
   "metadata": {},
   "source": [
    "#### Client"
   ]
  },
  {
   "cell_type": "code",
   "execution_count": 8,
   "metadata": {},
   "outputs": [
    {
     "data": {
      "text/plain": [
       "ListJobs(page_count=6, next_page='https://wordcab.com/api/v1/jobs/?page=2', results=[SummarizeJob(display_name='sample_1', job_name='job_8w5ZQjZfXw3XuuRYmfYhHLVWTtpCrvCp', source='audio', job_status='SummaryComplete', metadata=None, settings=None, tags=None, time_started='2022-11-23T21:59:28.618117Z', time_completed='2022-11-23T22:01:09.057822+00:00', transcript_id='audio_transcript_DcpYZFH924yJkBKiSrTT9giyjv39QzHG', summary_details={'summary_id': 'narrative_summary_bXJ87bmToi9mRYoNSDbUEAGM8qQHN3qK', 'summary_type': 'narrative'}), SummarizeJob(display_name='sample_1', job_name='job_QkxGDhrJmb8B4vzJxLa5b6RcSuKqGAPF', source='generic', job_status='SummaryComplete', metadata=None, settings=None, tags=None, time_started='2022-11-23T21:55:04.376354Z', time_completed='2022-11-23T21:56:16.208708+00:00', transcript_id='generic_transcript_8HbQ8aNFuxcgjmadtsGf8sjhPuhcKLdn', summary_details={'summary_id': 'no_speaker_summary_TpUaCDV3EW4PZi8Sa65gN6ssCRtMXnbE', 'summary_type': 'no_speaker'}), SummarizeJob(display_name='test-sdk-audio', job_name='job_THvGbxbE9dV7LUyzWcj4n7kGSDxhrF9e', source='audio', job_status='SummaryComplete', metadata=None, settings=None, tags=None, time_started='2022-11-23T21:38:55.929888Z', time_completed='2022-11-23T21:46:39.615316+00:00', transcript_id='audio_transcript_YJYCfyEd9seHuzeJUvpahDf88u8wKa4v', summary_details={'summary_id': 'narrative_summary_M3tNKp7yNY6egqDimNrrYuhbTLEHsHxC', 'summary_type': 'narrative'}), SummarizeJob(display_name='test-sdk-json', job_name='job_acPnvUVKsjbHG8gt8ybfAwkJotU7s5n3', source='generic', job_status='SummaryComplete', metadata=None, settings=None, tags=None, time_started='2022-11-23T21:38:55.811075Z', time_completed='2022-11-23T21:46:39.889231+00:00', transcript_id='generic_transcript_Qt2wPmYNyXvbg2w4ZrjBDi3QHE365wYn', summary_details={'summary_id': 'narrative_summary_VUvj9KoUYRmCeMhKkpbUbjJrMPWP89nr', 'summary_type': 'narrative'}), SummarizeJob(display_name='test-sdk-txt', job_name='job_cwjuUskiN9gCNwMHL48nEir6b4afqkcN', source='generic', job_status='SummaryComplete', metadata=None, settings=None, tags=None, time_started='2022-11-23T21:38:55.736883Z', time_completed='2022-11-23T21:46:32.081844+00:00', transcript_id='generic_transcript_EEpskSAheXiT4g5r7g3WA27kME6mQLVH', summary_details={'summary_id': 'reason_conclusion_summary_bsx4JJwVC85gF8ZEcoynydGvaEHwEBpW', 'summary_type': 'reason_conclusion'}), ExtractJob(display_name='test-extraction-json', job_name='job_W7rLUvQkvy6g4pUU7jptvYsEoB7krEaN', source='generic', job_status='ExtractionComplete', metadata=None, settings=None, tags=None, time_started='2022-11-23T21:38:55.656653Z', time_completed='2022-11-23T21:47:00.879071+00:00', transcript_id='generic_transcript_4dHkYutzpCpWZkKxg7y9fGkWrMacjevd'), ExtractJob(display_name='test-extraction-txt', job_name='job_Cz469KA7UmKNwE6zDJtd2XbzG4dGbNLQ', source='generic', job_status='ExtractionComplete', metadata=None, settings=None, tags=None, time_started='2022-11-23T21:38:55.587775Z', time_completed='2022-11-23T21:47:00.242348+00:00', transcript_id='generic_transcript_JSJzHVEqRAtCH3SRAsNGVL2BKrVU52nH'), SummarizeJob(display_name='test-summary-api', job_name='job_QuLbP4VJxwqgqS8f5L8S3WHsqvNfgK7x', source='generic', job_status='SummaryComplete', metadata=None, settings=None, tags=None, time_started='2022-11-23T21:38:55.306935Z', time_completed='2022-11-23T21:46:28.701246+00:00', transcript_id='generic_transcript_D2EiNZwpg7r5paPDYyBMZwRgY28p8dDX', summary_details={'summary_id': 'conversational_summary_AZCW6nH94A3JP6L7vGj87EFgwGCDgnRv', 'summary_type': 'conversational'}), ExtractJob(display_name='test-extract-api', job_name='job_RiretPRoFrhveneK9uDKk2J6UuKR7sQj', source='generic', job_status='ExtractionComplete', metadata=None, settings=None, tags=None, time_started='2022-11-23T21:38:55.233353Z', time_completed='2022-11-23T21:46:58.967070+00:00', transcript_id='generic_transcript_EtBm3LFo7fnwjZhxYWLRYqPg6trPgAyY'), SummarizeJob(display_name='test-sdk-audio', job_name='job_UqcXaKfS4bSTSjAfwY4J5nrQLsfoEFnQ', source='audio', job_status='SummaryComplete', metadata=None, settings=None, tags=None, time_started='2022-11-23T21:38:18.495166Z', time_completed='2022-11-23T21:46:38.958226+00:00', transcript_id='audio_transcript_dKz7bKptyTBvcJyJNCvmyy5jfAuxqTSz', summary_details={'summary_id': 'narrative_summary_Z3q8hme23XA7u5RVSGPmSbqw7LZbZt3i', 'summary_type': 'narrative'}), SummarizeJob(display_name='test-sdk-json', job_name='job_akJViFmp5Kqu7fDuotaPHsteMcfSBEcY', source='generic', job_status='SummaryComplete', metadata=None, settings=None, tags=None, time_started='2022-11-23T21:38:17.545791Z', time_completed='2022-11-23T21:46:33.842883+00:00', transcript_id='generic_transcript_JavBVfjTv3jc5At6JrTJnhHm73aAsAtr', summary_details={'summary_id': 'narrative_summary_VJUPoYfAZXk53Cq2dmisgNEATRs7tx8m', 'summary_type': 'narrative'}), SummarizeJob(display_name='test-sdk-txt', job_name='job_DSJc8ABgkUNjCMQqEuzF6MzGmNYqZ6Zt', source='generic', job_status='SummaryComplete', metadata=None, settings=None, tags=None, time_started='2022-11-23T21:38:17.235499Z', time_completed='2022-11-23T21:46:30.174160+00:00', transcript_id='generic_transcript_Ku2aEwwp2QzwRmzpKXM3yu2hU4uY7jtn', summary_details={'summary_id': 'reason_conclusion_summary_VPz7JffZbiru6pbRZrDnHNPYUfQ7ppiP', 'summary_type': 'reason_conclusion'}), ExtractJob(display_name='test-extraction-json', job_name='job_ZUDjRyAEBZDGqKVHbpxaepAH2YK2QAU2', source='generic', job_status='ExtractionComplete', metadata=None, settings=None, tags=None, time_started='2022-11-23T21:38:16.910198Z', time_completed='2022-11-23T21:46:58.362046+00:00', transcript_id='generic_transcript_H9zNBrU3WgGEaFbJGMhHdhix3bkkJTUE'), ExtractJob(display_name='test-extraction-txt', job_name='job_WMbK2XzNPHUwuk7bDaHphs5tUkJGtW9A', source='generic', job_status='ExtractionComplete', metadata=None, settings=None, tags=None, time_started='2022-11-23T21:38:16.623621Z', time_completed='2022-11-23T21:46:56.995815+00:00', transcript_id='generic_transcript_DeykgoDgELQUdEFhupkfkYKjevJzqFUX'), SummarizeJob(display_name='test-summary-api', job_name='job_QFGH7Xt7o5gQfwevZpmjwJELuUdyanBi', source='generic', job_status='SummaryComplete', metadata=None, settings=None, tags=None, time_started='2022-11-23T21:38:15.121729Z', time_completed='2022-11-23T21:46:26.811687+00:00', transcript_id='generic_transcript_dxqLTs3QtuomqdEJAfsiyi6URaCixixW', summary_details={'summary_id': 'conversational_summary_3Fz2d9nx9bk239WdEHuMhvhCUr54dUfd', 'summary_type': 'conversational'}), ExtractJob(display_name='test-extract-api', job_name='job_FEmmzN2VrWGXwtEwzyjwaF2pdHLhBQRn', source='generic', job_status='ExtractionComplete', metadata=None, settings=None, tags=None, time_started='2022-11-23T21:38:14.797488Z', time_completed='2022-11-23T21:46:56.400077+00:00', transcript_id='generic_transcript_LbbU6vjPecpXfNHDAoHcpHUtC7X8L72F'), SummarizeJob(display_name='test-sdk-audio', job_name='job_8DCjqrD7ipJmuYgZGgXigtwoNMb4AL48', source='audio', job_status='SummaryComplete', metadata=None, settings=None, tags=None, time_started='2022-11-23T21:37:55.930414Z', time_completed='2022-11-23T21:46:37.870029+00:00', transcript_id='audio_transcript_UfM6z6ecKDzTTEcMuPY2qhDrbfjaV9Nk', summary_details={'summary_id': 'narrative_summary_SQET9XPobb6Lb89dRyQNKteCDHdcGeKw', 'summary_type': 'narrative'}), SummarizeJob(display_name='test-sdk-json', job_name='job_T7FgGcuMmgYopYX5ZWkakVfKnjh5ctJH', source='generic', job_status='SummaryComplete', metadata=None, settings=None, tags=None, time_started='2022-11-23T21:37:55.046314Z', time_completed='2022-11-23T21:46:32.746887+00:00', transcript_id='generic_transcript_RH43gmcAXk9Rh54GiRV2xRnEwLNKdU2i', summary_details={'summary_id': 'narrative_summary_ba2UvTGjdecPiW8j68QDDvNQtf5fy2xb', 'summary_type': 'narrative'}), SummarizeJob(display_name='test-sdk-txt', job_name='job_CuAnsfs2Ahgo2MuBf5hJRyvQwWMUWFMQ', source='generic', job_status='SummaryComplete', metadata=None, settings=None, tags=None, time_started='2022-11-23T21:37:54.750639Z', time_completed='2022-11-23T21:46:29.722828+00:00', transcript_id='generic_transcript_EFiVfshYd7rKnzkAEmcnHvUfRim5Jvhq', summary_details={'summary_id': 'reason_conclusion_summary_EqwBYJ3gLmGUpknKtZys6sCTUYahaDnU', 'summary_type': 'reason_conclusion'}), ExtractJob(display_name='test-extraction-json', job_name='job_DFDJ7rr6AhkimYgoWwJXNhMYKbQgLiRp', source='generic', job_status='ExtractionComplete', metadata=None, settings=None, tags=None, time_started='2022-11-23T21:37:54.386947Z', time_completed='2022-11-23T21:46:55.152623+00:00', transcript_id='generic_transcript_cKhmQFK7Hdp29pqA9bN4qzcfBBZLbBXs'), ExtractJob(display_name='test-extraction-txt', job_name='job_DFaEy9c44phZUTa5MjnbSQuKv3is4AhJ', source='generic', job_status='ExtractionComplete', metadata=None, settings=None, tags=None, time_started='2022-11-23T21:37:54.107860Z', time_completed='2022-11-23T21:46:54.452514+00:00', transcript_id='generic_transcript_PSmmVtykp8g4V5FDoTWiZJPXakCEpfTF'), SummarizeJob(display_name='test-summary-api', job_name='job_ZCsMfiU4JL7XrzXE5Xs3HUKZnJrDh8xq', source='generic', job_status='SummaryComplete', metadata=None, settings=None, tags=None, time_started='2022-11-23T21:37:52.822720Z', time_completed='2022-11-23T21:46:25.211855+00:00', transcript_id='generic_transcript_36JwqMG67YFDNPxFmXdonBwvYFt9E4Pu', summary_details={'summary_id': 'conversational_summary_c6eXdCZKskw8DLRC2TV3ABcJEBN5WM9d', 'summary_type': 'conversational'}), ExtractJob(display_name='test-extract-api', job_name='job_MyDiih85Axvpq4W7ERSzmjPkvbKEZPQt', source='generic', job_status='ExtractionComplete', metadata=None, settings=None, tags=None, time_started='2022-11-23T21:37:52.537655Z', time_completed='2022-11-23T21:46:53.250963+00:00', transcript_id='generic_transcript_9EbWQLWXRt4MKZjgXZc8WzCg5LY7B8xj'), SummarizeJob(display_name='test-sdk-audio', job_name='job_Ke4bQe6KSHYfHbJydgbJmtnFRjFFZpJY', source='audio', job_status='SummaryComplete', metadata=None, settings=None, tags=None, time_started='2022-11-23T21:37:51.738227Z', time_completed='2022-11-23T21:46:36.245591+00:00', transcript_id='audio_transcript_bSwiieNfqwZFuhc7PGeGaRjYWc75KUNn', summary_details={'summary_id': 'narrative_summary_NePU92Puee4SeLopdd7GUtMrrAEpDdsv', 'summary_type': 'narrative'}), SummarizeJob(display_name='test-sdk-audio', job_name='job_8QH33jUVAwo2mjeEvrd45wK9mChJjfHk', source='audio', job_status='SummaryComplete', metadata=None, settings=None, tags=None, time_started='2022-11-23T21:37:51.470286Z', time_completed='2022-11-23T21:46:37.188254+00:00', transcript_id='audio_transcript_BtKWWaVcuHmk8X8kcfZy9Pycn67PB7FK', summary_details={'summary_id': 'narrative_summary_EsgoMHXHAdtaFDhj4jthABsvnF3d8Mif', 'summary_type': 'narrative'}), SummarizeJob(display_name='test-sdk-json', job_name='job_dh7eFsHQbmeq3A67Cy4NCeFR7nDJNBvy', source='generic', job_status='SummaryComplete', metadata=None, settings=None, tags=None, time_started='2022-11-23T21:37:50.981657Z', time_completed='2022-11-23T21:46:32.045723+00:00', transcript_id='generic_transcript_JgVcWGSS8Ntdf4Smh8bhQa3mS79w2u5z', summary_details={'summary_id': 'narrative_summary_3aD74sCimXPnadHhT83jH5apg34iUAZe', 'summary_type': 'narrative'}), SummarizeJob(display_name='test-sdk-json', job_name='job_3jTJV9x8WDeUTTSCSxhBT9P3s2wBXX9r', source='generic', job_status='SummaryComplete', metadata=None, settings=None, tags=None, time_started='2022-11-23T21:37:50.840849Z', time_completed='2022-11-23T21:46:30.927326+00:00', transcript_id='generic_transcript_MkXyPzkA7bN6FLksPAsCFCbk8viBhUio', summary_details={'summary_id': 'narrative_summary_KGVu5ovnJgxBoZtAq46h4ueYd8dvqv3P', 'summary_type': 'narrative'}), SummarizeJob(display_name='test-sdk-txt', job_name='job_7YnmJn6hKXWkmtUWcCyrPk89wA5Krcu6', source='generic', job_status='SummaryComplete', metadata=None, settings=None, tags=None, time_started='2022-11-23T21:37:50.809615Z', time_completed='2022-11-23T21:46:30.603514+00:00', transcript_id='generic_transcript_ZHYLunC9AmkRYNHhEVAphL96Tu4dnmGe', summary_details={'summary_id': 'reason_conclusion_summary_92XymNsoZaeTbZ3d65CkFWz4xCddN9QT', 'summary_type': 'reason_conclusion'}), ExtractJob(display_name='test-extraction-json', job_name='job_UrnEanjcUbwQYj4WTCX4ZUL2iTQ7iJBn', source='generic', job_status='ExtractionComplete', metadata=None, settings=None, tags=None, time_started='2022-11-23T21:37:50.627995Z', time_completed='2022-11-23T21:46:52.494389+00:00', transcript_id='generic_transcript_BJyj52ZjBxRz8nSBuAhEiSsAMFzU4E4d'), SummarizeJob(display_name='test-sdk-txt', job_name='job_aCYqcPmvZC4ci5Y6fUwzZsZ4C3Tejfyj', source='generic', job_status='SummaryComplete', metadata=None, settings=None, tags=None, time_started='2022-11-23T21:37:50.467648Z', time_completed='2022-11-23T21:46:27.412164+00:00', transcript_id='generic_transcript_QhJif8MnnS2gJFJx5LUNF9mkP3DDcWk3', summary_details={'summary_id': 'reason_conclusion_summary_SCPM9WGXjh3o2pebp9ekBeFnTmSJQwz8', 'summary_type': 'reason_conclusion'}), ExtractJob(display_name='test-extraction-txt', job_name='job_AAkbcC6etrUFigfCczLAX3ARSMbxeymM', source='generic', job_status='ExtractionComplete', metadata=None, settings=None, tags=None, time_started='2022-11-23T21:37:50.388819Z', time_completed='2022-11-23T21:46:51.364811+00:00', transcript_id='generic_transcript_36uVBdbNtx6sGDVtR8ZZbk9PzRG2qBWu'), ExtractJob(display_name='test-extraction-json', job_name='job_NUEv88h4R89RKrKCBsQjzSg3aCY3rzVq', source='generic', job_status='ExtractionComplete', metadata=None, settings=None, tags=None, time_started='2022-11-23T21:37:50.129246Z', time_completed='2022-11-23T21:46:50.638614+00:00', transcript_id='generic_transcript_6QrSDaUMRufqNncH9hNAQRWwNr8FxnHB'), ExtractJob(display_name='test-extraction-txt', job_name='job_ZmtZzVjyHqsndzXhnThdhybxp4nxEhC5', source='generic', job_status='ExtractionComplete', metadata=None, settings=None, tags=None, time_started='2022-11-23T21:37:49.785794Z', time_completed='2022-11-23T21:46:49.491941+00:00', transcript_id='generic_transcript_Pm4WN5FBUaFStqxdm8S5x2fxnQqXqRsb'), SummarizeJob(display_name='test-summary-api', job_name='job_UQNSGC3wgzLmWgher7HTkdXypfziRnTD', source='generic', job_status='SummaryComplete', metadata=None, settings=None, tags=None, time_started='2022-11-23T21:37:49.433485Z', time_completed='2022-11-23T21:46:23.721553+00:00', transcript_id='generic_transcript_NsQ8HX6KeDFepKGypgMcB4YxmWH32n2u', summary_details={'summary_id': 'conversational_summary_HNkFpMrPBm7phbd6wKRz2bZLuumMqwQY', 'summary_type': 'conversational'}), ExtractJob(display_name='test-extract-api', job_name='job_U5XzskGsecPz5ooLQ5SKR3E5cC9tEc9R', source='generic', job_status='ExtractionComplete', metadata=None, settings=None, tags=None, time_started='2022-11-23T21:37:49.236031Z', time_completed='2022-11-23T21:47:02.762885+00:00', transcript_id='generic_transcript_NZf9jY8RLvkm2dJi8P4hTdUmBzDCxLVV'), SummarizeJob(display_name='test-summary-api', job_name='job_MVEoPsXTJ2THnLtcFtNzAxJR69rPSFnc', source='generic', job_status='SummaryComplete', metadata=None, settings=None, tags=None, time_started='2022-11-23T21:37:48.578267Z', time_completed='2022-11-23T21:46:22.068134+00:00', transcript_id='generic_transcript_MGpyDpZMNzXV8RVWxEGZ43YwsUtPVoPp', summary_details={'summary_id': 'conversational_summary_AZY6DpBMnzMBvW9hUQ9EEH4ocERpT2Ny', 'summary_type': 'conversational'}), ExtractJob(display_name='test-extract-api', job_name='job_ZFPuqbjBhV76EWmb2iLdsTyyCVEnwYQT', source='generic', job_status='ExtractionComplete', metadata=None, settings=None, tags=None, time_started='2022-11-23T21:37:48.287988Z', time_completed='2022-11-23T21:46:48.703065+00:00', transcript_id='generic_transcript_7GpGAikDmPMXuSS2rZdzLjGzSyemCpx5'), SummarizeJob(display_name='test-sdk-audio', job_name='job_4tcAC3MGskitJ2wbwrkL3oTfpo5deej2', source='audio', job_status='SummaryComplete', metadata=None, settings=None, tags=None, time_started='2022-11-23T21:37:37.175122Z', time_completed='2022-11-23T21:46:34.491608+00:00', transcript_id='audio_transcript_ZrDiiCr9Zd5sZWFnJKTEz6VUoEqAdn4q', summary_details={'summary_id': 'narrative_summary_7832V48ssRRbccJE4SR8ZxEyvjudMwMA', 'summary_type': 'narrative'}), SummarizeJob(display_name='test-sdk-json', job_name='job_DgqcxtQ9GnUy3zXGtmHunmyZbNhEeCGz', source='generic', job_status='SummaryComplete', metadata=None, settings=None, tags=None, time_started='2022-11-23T21:37:36.967046Z', time_completed='2022-11-23T21:46:35.569611+00:00', transcript_id='generic_transcript_3XQFVPCUM7jqbsDraexDtazi3RoA6jQD', summary_details={'summary_id': 'narrative_summary_Vxx43iYWG86jv5u67FfXL9rQEPTRwwFM', 'summary_type': 'narrative'}), SummarizeJob(display_name='test-sdk-txt', job_name='job_MWGPeMEUvt7sYZuiRaB29GnKippytPzh', source='generic', job_status='SummaryComplete', metadata=None, settings=None, tags=None, time_started='2022-11-23T21:37:36.863313Z', time_completed='2022-11-23T21:46:27.675952+00:00', transcript_id='generic_transcript_4PqEou8biyy4Gv9VULYnxeLrZFL6DEnz', summary_details={'summary_id': 'reason_conclusion_summary_Th2BD85EQb76yPigEKvzBtXMiNnx6n52', 'summary_type': 'reason_conclusion'}), ExtractJob(display_name='test-extraction-json', job_name='job_NnLj2ttXq5pckGp4auXrEo2gUpV7vyNR', source='generic', job_status='ExtractionComplete', metadata=None, settings=None, tags=None, time_started='2022-11-23T21:37:36.748278Z', time_completed='2022-11-23T21:46:47.604028+00:00', transcript_id='generic_transcript_8bA8MSdrzhEbBMRtgkJRmmgjurMfF8d5'), ExtractJob(display_name='test-extraction-txt', job_name='job_9Kphe5S4qGH4WUWzHo2LzBQqprsDJMtD', source='generic', job_status='ExtractionComplete', metadata=None, settings=None, tags=None, time_started='2022-11-23T21:37:36.687793Z', time_completed='2022-11-23T21:46:46.831537+00:00', transcript_id='generic_transcript_RhoxJCSNEmBvBLHczesVZDKT6wHmnMqF'), SummarizeJob(display_name='test-summary-api', job_name='job_bxEnWH45xZfUhtBWQDaVwKakLC5xHxia', source='generic', job_status='SummaryComplete', metadata=None, settings=None, tags=None, time_started='2022-11-23T21:37:36.328471Z', time_completed='2022-11-23T21:46:20.479429+00:00', transcript_id='generic_transcript_CcwYYxtMXxYfgGEHANvJ6XTtHFZoLRxE', summary_details={'summary_id': 'conversational_summary_ahUKbLnNsjzjouS6dMFx2WBLevqTGLXv', 'summary_type': 'conversational'}), ExtractJob(display_name='test-extract-api', job_name='job_DyJxJkTqRh4nDqNNK7y7UNgsWVERmnmb', source='generic', job_status='ExtractionComplete', metadata=None, settings=None, tags=None, time_started='2022-11-23T21:37:36.210428Z', time_completed='2022-11-23T21:47:02.094445+00:00', transcript_id='generic_transcript_TV8vpcPGZ4PhPJC4FJ6pxYmuiobf7zG4'), SummarizeJob(display_name='sample_1', job_name='job_9o3gdw8dZh4G9X26uWmFvC47mvmxPfLz', source='generic', job_status='SummaryComplete', metadata=None, settings=None, tags=None, time_started='2022-11-22T22:55:49.252174Z', time_completed='2022-11-22T22:55:51.250285+00:00', transcript_id='generic_transcript_SqkenpiqJUDC73abnHsJbuKY7jwJvZGk', summary_details={'summary_id': 'no_speaker_summary_StPuKPKgr6cLP9hm4HqRaCRqHcwnovk2', 'summary_type': 'no_speaker'}), SummarizeJob(display_name='sample_1', job_name='job_6sLhhXBcX9zAyn95sA33VYHsGGGNA4L8', source='generic', job_status='SummaryComplete', metadata=None, settings=None, tags=None, time_started='2022-11-22T22:40:48.319286Z', time_completed='2022-11-22T22:40:51.310166+00:00', transcript_id='generic_transcript_RK6XpoPNJrAL6wc299vr8RTtD7xyDrUc', summary_details={'summary_id': 'reason_conclusion_summary_BTmHWj4re9QhCjJndPKqJkJSTnW4WFNe', 'summary_type': 'reason_conclusion'}), SummarizeJob(display_name='no_speaker_healthcare', job_name='job_MT3EmSmKnUsN5C5NSxthdQAUAANdVGWD', source='deepgram', job_status='SummaryComplete', metadata=None, settings=None, tags=None, time_started='2022-11-22T19:37:41.690594Z', time_completed='2022-11-22T19:37:48.168106+00:00', transcript_id='deepgram_transcript_8EVw3Rv66iFvXsBj6vYe7ZC3KiR6NciM', summary_details={'summary_id': 'no_speaker_summary_QerLSHaX92sgpKCKey93o9FntLNJdPXG', 'summary_type': 'no_speaker'}), SummarizeJob(display_name='conversational_healthcare', job_name='job_NTmRmkovzfazuKZN7V2TbYvgijwyGxbC', source='deepgram', job_status='SummaryComplete', metadata=None, settings=None, tags=None, time_started='2022-11-22T19:37:30.103777Z', time_completed='2022-11-22T19:37:38.152930+00:00', transcript_id='deepgram_transcript_JygARxoR4aQ6tFSQvWvmqWQdEcfpWGpX', summary_details={'summary_id': 'conversational_summary_D9EeTpvFnB6ZAQrhijaLCGxzGypU5gK3', 'summary_type': 'conversational'}), SummarizeJob(display_name='narrative_healthcare', job_name='job_VfEyEEAvHv3VH25zvxu84pqUGUyHSJga', source='deepgram', job_status='SummaryComplete', metadata=None, settings=None, tags=None, time_started='2022-11-22T19:37:13.351305Z', time_completed='2022-11-22T19:37:28.400641+00:00', transcript_id='deepgram_transcript_R4vR43w4GbipU9FQMGKqutZewuBuUFS9', summary_details={'summary_id': 'narrative_summary_JZ3XS5Kr2VmTqwhjwum9ZwoJNLVRTTef', 'summary_type': 'narrative'}), SummarizeJob(display_name='reason_conclusion_healthcare', job_name='job_33DzuR8rTBRJESFxeSsrjpk2XnipheN9', source='deepgram', job_status='SummaryComplete', metadata=None, settings=None, tags=None, time_started='2022-11-22T19:37:07.183566Z', time_completed='2022-11-22T19:37:10.903320+00:00', transcript_id='deepgram_transcript_YQRhkM8DYo27XoTEW2RrnUymkzRGjE6m', summary_details={'summary_id': 'reason_conclusion_summary_QoP8riBM7xYZ2wN4B8vwZ6jNvY3oQTAh', 'summary_type': 'reason_conclusion'}), SummarizeJob(display_name='no_speaker_support_travel', job_name='job_Rc6WhoRMoDpryjwmSFGQqpCM2QkYFEBg', source='deepgram', job_status='SummaryComplete', metadata=None, settings=None, tags=None, time_started='2022-11-22T19:36:55.358264Z', time_completed='2022-11-22T19:37:01.381435+00:00', transcript_id='deepgram_transcript_ARAYUjfoc7a9PgM5RhnvFQGDpuLgrbig', summary_details={'summary_id': 'no_speaker_summary_ABp62Pghc7pxE3umoP4bBGqjynPp7MbB', 'summary_type': 'no_speaker'}), SummarizeJob(display_name='conversational_support_travel', job_name='job_eKCZhaHA3Cy62HfgGTpquiLPxLfETZax', source='deepgram', job_status='SummaryComplete', metadata=None, settings=None, tags=None, time_started='2022-11-22T19:36:43.814560Z', time_completed='2022-11-22T19:36:50.916135+00:00', transcript_id='deepgram_transcript_3TSTjGTxuGtotvaHHpVYwjNggvXEFLmx', summary_details={'summary_id': 'conversational_summary_HNh9SQNmvMPWzbp7YWxworMGJSdjQRdb', 'summary_type': 'conversational'}), SummarizeJob(display_name='narrative_support_travel', job_name='job_aqrij7PECz2FZJLZouoXz9hhHufWpvUj', source='deepgram', job_status='SummaryComplete', metadata=None, settings=None, tags=None, time_started='2022-11-22T19:36:27.084275Z', time_completed='2022-11-22T19:36:39.180817+00:00', transcript_id='deepgram_transcript_7fqoJhimdTGbyHZvyxywtsMv9kVzhVw6', summary_details={'summary_id': 'narrative_summary_HEwUNRnysApzgBvBUrgZj4Tf36444noR', 'summary_type': 'narrative'}), SummarizeJob(display_name='reason_conclusion_support_travel', job_name='job_4D5XBqjBNx4vUCgEFJ2uUwtjKKdoxUHW', source='deepgram', job_status='SummaryComplete', metadata=None, settings=None, tags=None, time_started='2022-11-22T19:36:10.493278Z', time_completed='2022-11-22T19:36:23.394031+00:00', transcript_id='deepgram_transcript_Y7QxcD9u6RGmsh2ebYGB6xAmVMw8VaLN', summary_details={'summary_id': 'reason_conclusion_summary_b5So5zBeKW8pBrqdcFTTx9gnEk9ftdLC', 'summary_type': 'reason_conclusion'}), SummarizeJob(display_name='no_speaker_earnings_call', job_name='job_9GNzZ78R665TM98SCUnPjLW4ahNJ2Xg3', source='deepgram', job_status='SummaryComplete', metadata=None, settings=None, tags=None, time_started='2022-11-22T19:35:37.947726Z', time_completed='2022-11-22T19:36:05.993530+00:00', transcript_id='deepgram_transcript_FPM3wnuMCcfJKuQkWcxL2LAfXFq9Ea6X', summary_details={'summary_id': 'no_speaker_summary_D3NJrLQtS4feSnPvoJ6CfbtyRSUqfsAd', 'summary_type': 'no_speaker'}), SummarizeJob(display_name='conversational_earnings_call', job_name='job_6M5mfuymcmCCMrkXjTcexejfS3R2qfjc', source='deepgram', job_status='SummaryComplete', metadata=None, settings=None, tags=None, time_started='2022-11-22T19:35:14.907696Z', time_completed='2022-11-22T19:35:34.906006+00:00', transcript_id='deepgram_transcript_MHbj955QfCW5R96VjuFz6U8idZgM5Ehn', summary_details={'summary_id': 'conversational_summary_5aQTfZjbcggveHjG7nCYxvDboUipWnRk', 'summary_type': 'conversational'}), SummarizeJob(display_name='narrative_earnings_call', job_name='job_XEueu3TjLPPmf8wX4MovssE94aXZV5Z3', source='deepgram', job_status='SummaryComplete', metadata=None, settings=None, tags=None, time_started='2022-11-22T19:34:46.643323Z', time_completed='2022-11-22T19:35:10.845602+00:00', transcript_id='deepgram_transcript_a2m3uhHdGghRVGmjmoUhCPw9m58moxLk', summary_details={'summary_id': 'narrative_summary_AQ74x4CsqFfAAy7tDwfeijg98DCHTn5W', 'summary_type': 'narrative'}), SummarizeJob(display_name='reason_conclusion_earnings_call', job_name='job_9wGJvExkZuADBmsskvUsb6ZeKFf54aYW', source='deepgram', job_status='SummaryComplete', metadata=None, settings=None, tags=None, time_started='2022-11-22T19:34:29.122476Z', time_completed='2022-11-22T19:34:39.931595+00:00', transcript_id='deepgram_transcript_RmGN3CPLiXZLEiPMwcmbyv3rkmpJWNBn', summary_details={'summary_id': 'reason_conclusion_summary_8vZaJeUZenq2y5W4QXwCwTx42MkCqF97', 'summary_type': 'reason_conclusion'}), SummarizeJob(display_name='no_speaker_meeting_multi_speaker', job_name='job_HGQrBMXptxfgZSeH8iswYrBNFxaRwjML', source='deepgram', job_status='SummaryComplete', metadata=None, settings=None, tags=None, time_started='2022-11-22T19:34:00.419278Z', time_completed='2022-11-22T19:34:25.629840+00:00', transcript_id='deepgram_transcript_XMbVsniQ2UiKHubeSGjZhKBp9Jvr2yFr', summary_details={'summary_id': 'no_speaker_summary_3ufdBt5VhSQSzbstkCMBRjwvG2VEHe6u', 'summary_type': 'no_speaker'}), SummarizeJob(display_name='conversational_meeting_multi_speaker', job_name='job_9cKQghQEkpfTPHtr6rWYpQEck3Wg6Mbb', source='deepgram', job_status='SummaryComplete', metadata=None, settings=None, tags=None, time_started='2022-11-22T19:33:01.455342Z', time_completed='2022-11-22T19:33:56.452726+00:00', transcript_id='deepgram_transcript_3gkbruMhfYF5SDthfgNFmDUVegVc9Ctr', summary_details={'summary_id': 'conversational_summary_7NFuZCFLoNLQVrr7TNTg6jaFCfKqqxif', 'summary_type': 'conversational'}), SummarizeJob(display_name='narrative_meeting_multi_speaker', job_name='job_LbboQ5BVDY4oyDrJUArQRWHottEsCS5J', source='deepgram', job_status='SummaryComplete', metadata=None, settings=None, tags=None, time_started='2022-11-22T19:32:17.704373Z', time_completed='2022-11-22T19:32:56.265467+00:00', transcript_id='deepgram_transcript_HYKsgf9xGdsjwJbqAm2gNzYZUjP9HKQU', summary_details={'summary_id': 'narrative_summary_VJHVDs79zSs8ussxw8ZyWaV6KeUniuDo', 'summary_type': 'narrative'}), SummarizeJob(display_name='reason_conclusion_meeting_multi_speaker', job_name='job_KmM5uyRvarPh6yurz4dusgQuQSZ9GzEc', source='deepgram', job_status='SummaryComplete', metadata=None, settings=None, tags=None, time_started='2022-11-22T19:32:10.518034Z', time_completed='2022-11-22T19:32:16.102400+00:00', transcript_id='deepgram_transcript_ZVuNPGCcaHDdN2BSNazEmWDC2dhr9M7u', summary_details={'summary_id': 'reason_conclusion_summary_VMZGS5HNvc9Fa2r5tJLo5Cwn7ES2AWnv', 'summary_type': 'reason_conclusion'}), SummarizeJob(display_name='no_speaker_lecture', job_name='job_ddZmXko8T9DYQvxp7Lj8HeWTXj3QXnBe', source='deepgram', job_status='SummaryComplete', metadata=None, settings=None, tags=None, time_started='2022-11-22T19:31:47.330750Z', time_completed='2022-11-22T19:32:06.904314+00:00', transcript_id='deepgram_transcript_YQohe9aHXD2MaRFWGqev6AM62yWX2ten', summary_details={'summary_id': 'no_speaker_summary_FuPctRQjPFjvRh6q2phdd6vVcBRWH79j', 'summary_type': 'no_speaker'}), SummarizeJob(display_name='conversational_lecture', job_name='job_UHcsBR7fdA7iW2w9tnPEcoWrXh5PgZjY', source='deepgram', job_status='SummaryComplete', metadata=None, settings=None, tags=None, time_started='2022-11-22T19:31:24.612832Z', time_completed='2022-11-22T19:31:43.775745+00:00', transcript_id='deepgram_transcript_Bu3eEW3Et28jQaBUqy6hmmNGBQDxeJWz', summary_details={'summary_id': 'conversational_summary_G44RHUR6RAxB4ndbmykzK6sfNG2vRboS', 'summary_type': 'conversational'}), SummarizeJob(display_name='narrative_lecture', job_name='job_CtaTMuv9vVAD9dxSvFbC7MzRDWDDeFtj', source='deepgram', job_status='SummaryComplete', metadata=None, settings=None, tags=None, time_started='2022-11-22T19:30:56.289813Z', time_completed='2022-11-22T19:31:21.502566+00:00', transcript_id='deepgram_transcript_488f8ytpqqKKmgBo6K4CRSAUyyjZgv2J', summary_details={'summary_id': 'narrative_summary_ChFVmdv9KGQYG9WK8fUChDk8qhCpoveB', 'summary_type': 'narrative'}), SummarizeJob(display_name='reason_conclusion_lecture', job_name='job_dVwA3xpc5pYbL8QbFhgQLZUt8rMKhmaB', source='deepgram', job_status='SummaryComplete', metadata=None, settings=None, tags=None, time_started='2022-11-22T19:30:43.693056Z', time_completed='2022-11-22T19:30:52.641068+00:00', transcript_id='deepgram_transcript_aGgUsspUUdSLpRHvp6XEQK2pFWNe4M2w', summary_details={'summary_id': 'reason_conclusion_summary_Usd7mC7BXnqdkSg3zXfMSv2Vwxp7NA8x', 'summary_type': 'reason_conclusion'}), SummarizeJob(display_name='no_speaker_podcast', job_name='job_ChRXfqHt2c4LcohpiG5kPPeyW3sEtWs3', source='deepgram', job_status='SummaryComplete', metadata=None, settings=None, tags=None, time_started='2022-11-22T19:30:20.302962Z', time_completed='2022-11-22T19:30:40.021143+00:00', transcript_id='deepgram_transcript_coipHsTAqaGD6M5HfcN4s7GUh7FuJ3Js', summary_details={'summary_id': 'no_speaker_summary_QrR3SqK5KH2fLJfuVb2wzWYEHAY2F82c', 'summary_type': 'no_speaker'}), SummarizeJob(display_name='conversational_podcast', job_name='job_CSkXHDpdEXY8vcGyyBAE6we6SLm7HZ8g', source='deepgram', job_status='SummaryComplete', metadata=None, settings=None, tags=None, time_started='2022-11-22T19:29:46.796316Z', time_completed='2022-11-22T19:30:17.154280+00:00', transcript_id='deepgram_transcript_HxFuoPab8FNMGjnk9x77yx3Tj6Qee9nz', summary_details={'summary_id': 'conversational_summary_G6iLdJNiHakVsnE6XsPwcHNzUZtFA88a', 'summary_type': 'conversational'}), SummarizeJob(display_name='narrative_podcast', job_name='job_8PKUhwurn9Sy8WqJf4h2HmRDCx7zdEPr', source='deepgram', job_status='SummaryComplete', metadata=None, settings=None, tags=None, time_started='2022-11-22T19:29:12.997900Z', time_completed='2022-11-22T19:29:40.710170+00:00', transcript_id='deepgram_transcript_Poq6Dg6DGdRTSJSpkxZzaSbz67hMr9xb', summary_details={'summary_id': 'narrative_summary_7C3M6fabmQuj4ncZwPvCFvQ4MLauX52Y', 'summary_type': 'narrative'}), SummarizeJob(display_name='reason_conclusion_podcast', job_name='job_cVBjWogA6tsDa9nV7soEELzSKzLLns6K', source='deepgram', job_status='SummaryComplete', metadata=None, settings=None, tags=None, time_started='2022-11-22T19:29:05.365017Z', time_completed='2022-11-22T19:29:09.039279+00:00', transcript_id='deepgram_transcript_AndCdN5devnMx7nG6mh7bFAaEzmWsUP5', summary_details={'summary_id': 'reason_conclusion_summary_Za3qM2Np8k2ic49ybAxhuSSpajeAaaG2', 'summary_type': 'reason_conclusion'}), SummarizeJob(display_name='no_speaker_meeting_2person', job_name='job_XRZZFtN4VtWsh3FnyuHpD3CJiZFBk3rU', source='deepgram', job_status='SummaryComplete', metadata=None, settings=None, tags=None, time_started='2022-11-22T19:28:41.444647Z', time_completed='2022-11-22T19:28:58.942989+00:00', transcript_id='deepgram_transcript_ZfqcfexrfFsG6wqmbZhhaPyYV4jfnZ7w', summary_details={'summary_id': 'no_speaker_summary_4M4LBhpJXXvWYJT6tJdU6FotcFP9Rkdn', 'summary_type': 'no_speaker'}), SummarizeJob(display_name='conversational_meeting_2person', job_name='job_BQ7Zc2AWUAs9DsqaBaQNjwbXiL7yXQQ4', source='deepgram', job_status='SummaryComplete', metadata=None, settings=None, tags=None, time_started='2022-11-22T19:28:18.974709Z', time_completed='2022-11-22T19:28:35.219192+00:00', transcript_id='deepgram_transcript_bkDSvnEcPBfWd3iyJy6YSCnrgp7VCsQK', summary_details={'summary_id': 'conversational_summary_KigPDadCykWMHYRF8Fyrbu8XCnCPwq3k', 'summary_type': 'conversational'}), SummarizeJob(display_name='narrative_meeting_2person', job_name='job_dBXWA9xBgdqePkU3LVu3z6v7PKNvZPfQ', source='deepgram', job_status='SummaryComplete', metadata=None, settings=None, tags=None, time_started='2022-11-22T19:27:51.239067Z', time_completed='2022-11-22T19:28:13.852528+00:00', transcript_id='deepgram_transcript_ZRJjJR7mbHvcfjz2UFkmA4XJfnKoB5Jp', summary_details={'summary_id': 'narrative_summary_dtq75Zbsf6byn4pZLgcMEVnMRBqGHvdK', 'summary_type': 'narrative'}), SummarizeJob(display_name='reason_conclusion_meeting_2person', job_name='job_B9bN9ozDv7X3QCKEdkcpPGWwnEbHuDDf', source='deepgram', job_status='SummaryComplete', metadata=None, settings=None, tags=None, time_started='2022-11-22T19:27:34.175009Z', time_completed='2022-11-22T19:27:45.329084+00:00', transcript_id='deepgram_transcript_8tr2JoBEr6KxK4bpQh5Febs9o4aUdDLZ', summary_details={'summary_id': 'reason_conclusion_summary_PiPr8G5EP9oAW5HgHrEjiNdi7dDg7xCg', 'summary_type': 'reason_conclusion'}), SummarizeJob(display_name='reason_conclusion_meeting_2person', job_name='job_GVQLmxr779VuDtyi7swTAyXo2eYDp8pt', source='deepgram', job_status='SummaryComplete', metadata=None, settings=None, tags=None, time_started='2022-11-22T19:27:18.607591Z', time_completed='2022-11-22T19:27:22.148988+00:00', transcript_id='deepgram_transcript_CfLYVBhDPrTv92qEhFZEX35a2Vaqdu5H', summary_details={'summary_id': 'reason_conclusion_summary_RuuPHVmdhyUcU8ZCbSwywzryGcsRYtnF', 'summary_type': 'reason_conclusion'}), SummarizeJob(display_name='no_speaker_sample_1', job_name='job_73GzSPnjHELJ8FPeopJ7apmGxYpHyi3D', source='deepgram', job_status='SummaryComplete', metadata=None, settings=None, tags=None, time_started='2022-11-22T19:26:25.650050Z', time_completed='2022-11-22T19:26:28.380729+00:00', transcript_id='deepgram_transcript_59jxNWFNiDDjSSe8qsBhidupbALqztLj', summary_details={'summary_id': 'no_speaker_summary_M8pM56anhbkxrmYxSLJJyjnnF9wUt2Ef', 'summary_type': 'no_speaker'}), SummarizeJob(display_name='conversational_sample_1', job_name='job_QiBQERP3SAgpQ3s6PEKR6mRUFxnKmY7i', source='deepgram', job_status='SummaryComplete', metadata=None, settings=None, tags=None, time_started='2022-11-22T19:26:19.701698Z', time_completed='2022-11-22T19:26:23.036888+00:00', transcript_id='deepgram_transcript_Dt96j9ATyjSJiGLznYEUDJ3b7YukPGeL', summary_details={'summary_id': 'conversational_summary_JJH4e7foDjp8FnBz4TDXKAnFgMwBpLXZ', 'summary_type': 'conversational'}), SummarizeJob(display_name='narrative_sample_1', job_name='job_Mk3SAVriuco47jnV872qRZPDcnmnTPqA', source='deepgram', job_status='SummaryComplete', metadata=None, settings=None, tags=None, time_started='2022-11-22T19:26:13.637478Z', time_completed='2022-11-22T19:26:17.789193+00:00', transcript_id='deepgram_transcript_d4MSQPf8z7WgNjrhvUdXbnyhABeJumZT', summary_details={'summary_id': 'narrative_summary_MTiJkxX43vJrrUpiCtJj3MZGzfnzqPWG', 'summary_type': 'narrative'}), SummarizeJob(display_name='reason_conclusion_sample_1', job_name='job_Dcb53jRhwWtnKvsSxwMyjicgPsuGfDNE', source='deepgram', job_status='SummaryComplete', metadata=None, settings=None, tags=None, time_started='2022-11-22T19:26:07.806409Z', time_completed='2022-11-22T19:26:10.768406+00:00', transcript_id='deepgram_transcript_WkDjMabXt7rQWKmhCZYbH76fYmuFFtQx', summary_details={'summary_id': 'reason_conclusion_summary_QEe43yTjhrN7X6p3n3HYMaJFoV3qrHKN', 'summary_type': 'reason_conclusion'}), SummarizeJob(display_name='reason_conclusion_sample_1', job_name='job_QCHNMgJGKNj9JH3LZJRs4i8KgdpcFyxL', source='deepgram', job_status='ItemQueued', metadata=None, settings=None, tags=None, time_started='2022-11-22T19:19:01.384397Z', time_completed=None, transcript_id='deepgram_transcript_P4vwZc2nfzJ7p5gxvNgf2ZhEmwgFzhAz', summary_details={'summary_id': 'reason_conclusion_summary_5x6LhW3S6VWYFU5B8fV4Z2sXDtxs32j5', 'summary_type': 'reason_conclusion'}), SummarizeJob(display_name='test-sdk-audio', job_name='job_9Q4Y3DNaDbRB8oiTEQgpNgc6LBsu8RBE', source='audio', job_status='SummaryComplete', metadata=None, settings=None, tags=None, time_started='2022-11-22T09:55:57.770914Z', time_completed='2022-11-22T10:02:33.965638+00:00', transcript_id='audio_transcript_35gcQLRB6oqh24WSJY4Vhrup4gmEDrHh', summary_details={'summary_id': 'narrative_summary_buSjhZnjr5tCVABoQumodGfsoXH45nKN', 'summary_type': 'narrative'}), SummarizeJob(display_name='test-sdk-json', job_name='job_APwxq8XarQtY6EJrfLS4txikv5WuYMRQ', source='generic', job_status='SummaryComplete', metadata=None, settings=None, tags=None, time_started='2022-11-22T09:55:57.478618Z', time_completed='2022-11-22T10:02:32.069465+00:00', transcript_id='generic_transcript_TAVXxuqQGTXXLELCBLLNta4YxhpMpB7L', summary_details={'summary_id': 'narrative_summary_G8wCEaUAP7gnadi7D7tRARPiXgfyYHoi', 'summary_type': 'narrative'}), SummarizeJob(display_name='test-sdk-txt', job_name='job_AivJdPiKuhVBRN7WHAARUtsKzCBad8ee', source='generic', job_status='SummaryComplete', metadata=None, settings=None, tags=None, time_started='2022-11-22T09:55:57.353292Z', time_completed='2022-11-22T10:02:16.948981+00:00', transcript_id='generic_transcript_dBhQvhH2bSoPzUwtRHitVDwLZfERhqUX', summary_details={'summary_id': 'reason_conclusion_summary_UbhZXqCeGbQw9v4CJDZFHKqfr8VszKC7', 'summary_type': 'reason_conclusion'}), ExtractJob(display_name='test-extraction-json', job_name='job_TwoospwWEogb3SQKbmtBKjnqArFnPaRu', source='generic', job_status='ExtractionComplete', metadata=None, settings=None, tags=None, time_started='2022-11-22T09:55:57.233214Z', time_completed='2022-11-22T10:02:57.772909+00:00', transcript_id='generic_transcript_Swwvnk2V2MPzsKFi2hT89ywqf857Aa5G'), ExtractJob(display_name='test-extraction-txt', job_name='job_QzsHeTwkyY8VLgFQ4LcJ7KjTkhnM9aK5', source='generic', job_status='ExtractionComplete', metadata=None, settings=None, tags=None, time_started='2022-11-22T09:55:57.129108Z', time_completed='2022-11-22T10:02:55.900138+00:00', transcript_id='generic_transcript_YEpD9dQi4gxBrVqnrAxDQJoRVLCcouxH'), SummarizeJob(display_name='test-summary-api', job_name='job_S8UiM7UsWvTcxYVpAezGZSKqCauUgL2s', source='generic', job_status='SummaryComplete', metadata=None, settings=None, tags=None, time_started='2022-11-22T09:55:56.673524Z', time_completed='2022-11-22T10:03:03.453667+00:00', transcript_id='generic_transcript_WZgchqiREA5qEce9ZCFz2dmHdzJ722PF', summary_details={'summary_id': 'conversational_summary_7RUyhC4YXd7iQLGedb9UbPafqfcgNwDq', 'summary_type': 'conversational'}), ExtractJob(display_name='test-extract-api', job_name='job_ZdXwTaSroqWoyHq5cjphaSJWfwKdb6MH', source='generic', job_status='ExtractionComplete', metadata=None, settings=None, tags=None, time_started='2022-11-22T09:55:56.560895Z', time_completed='2022-11-22T10:02:54.064378+00:00', transcript_id='generic_transcript_Wrzvok3Uj4bn9sngvS7hhr4ENXAbhdJT'), SummarizeJob(display_name='test-sdk-audio', job_name='job_YGQJUVT4RGny7i34NQZwjK8m5y35j3n4', source='audio', job_status='SummaryComplete', metadata=None, settings=None, tags=None, time_started='2022-11-22T09:54:39.139256Z', time_completed='2022-11-22T10:02:33.662771+00:00', transcript_id='audio_transcript_e9hdVbXNcQnKe3PbD5bEP4L9aEbJxA3P', summary_details={'summary_id': 'narrative_summary_e4Xqbcy9WBkdpZQoGR2E84kcBskcjFLW', 'summary_type': 'narrative'}), SummarizeJob(display_name='test-sdk-json', job_name='job_cUihQynyN6bU5hTXkbxo8CrGsF5UBqB7', source='generic', job_status='SummaryComplete', metadata=None, settings=None, tags=None, time_started='2022-11-22T09:54:37.894513Z', time_completed='2022-11-22T10:02:28.591151+00:00', transcript_id='generic_transcript_QXPEUE2kTmEPU9Di4qx94x7AYEK2ZtvX', summary_details={'summary_id': 'narrative_summary_cKNjwjhT4E5ncoWhgYeYZ7Lk7aaGpQq2', 'summary_type': 'narrative'}), SummarizeJob(display_name='test-sdk-txt', job_name='job_Et4vQnkbcYSeuPdfdA3eMRUmNfNSvLPe', source='generic', job_status='SummaryComplete', metadata=None, settings=None, tags=None, time_started='2022-11-22T09:54:37.623236Z', time_completed='2022-11-22T10:02:16.723469+00:00', transcript_id='generic_transcript_CyXDRnRvti676TAmtP8rRVzeqMXnrsQE', summary_details={'summary_id': 'reason_conclusion_summary_6WBkhapTjZxDYWDvJSGBJL7VYjRhFFi6', 'summary_type': 'reason_conclusion'}), ExtractJob(display_name='test-extraction-json', job_name='job_99nA6DQmkfVkLwEYr7juUKxBAySWnc2Y', source='generic', job_status='ExtractionComplete', metadata=None, settings=None, tags=None, time_started='2022-11-22T09:54:37.337601Z', time_completed='2022-11-22T10:02:52.253426+00:00', transcript_id='generic_transcript_V7SWeXZBUtfyFVjWo76RcwWV6GpWG2N8'), ExtractJob(display_name='test-extraction-txt', job_name='job_bizqijaEkpniWwjzKNfsaimwUrUYNhnk', source='generic', job_status='ExtractionComplete', metadata=None, settings=None, tags=None, time_started='2022-11-22T09:54:37.043363Z', time_completed='2022-11-22T10:02:50.388188+00:00', transcript_id='generic_transcript_KC7jGa47ZJdhKifRkAPxeHhDX3Ci7dR3'), SummarizeJob(display_name='test-summary-api', job_name='job_GVBapVpMNJ9r2Xn29UJ5YJWkqqujtXxy', source='generic', job_status='SummaryComplete', metadata=None, settings=None, tags=None, time_started='2022-11-22T09:54:35.890992Z', time_completed='2022-11-22T10:03:01.823670+00:00', transcript_id='generic_transcript_GUF2HcpY7vhPboEq6LLZcvw8HgVcifSW', summary_details={'summary_id': 'conversational_summary_YzGLEdohaE829rr84SpprwPHPXe3wcLN', 'summary_type': 'conversational'}), ExtractJob(display_name='test-extract-api', job_name='job_8QYpkmrEMcQs7fiy6PYvUihyjrf7sUq3', source='generic', job_status='ExtractionComplete', metadata=None, settings=None, tags=None, time_started='2022-11-22T09:54:35.608595Z', time_completed='2022-11-22T10:02:48.627673+00:00', transcript_id='generic_transcript_GMLfaQFBEFJL9qVQL3svDjueRegzJquL'), SummarizeJob(display_name='test-sdk-audio', job_name='job_EVHWQyoZEoHm2247w4sGT5sx8PQBfvNa', source='audio', job_status='SummaryComplete', metadata=None, settings=None, tags=None, time_started='2022-11-22T09:54:10.574066Z', time_completed='2022-11-22T10:02:32.609247+00:00', transcript_id='audio_transcript_bGY6obrJiRv3LL3aVtShNJqHvaf3ZqMH', summary_details={'summary_id': 'narrative_summary_RVd4WnnpTPgUukj6ARrGVAKjAnhmV5P9', 'summary_type': 'narrative'}), SummarizeJob(display_name='test-sdk-json', job_name='job_dS5QH3ZZhKimCevuGJCxM7kPvNiiGPSb', source='generic', job_status='SummaryComplete', metadata=None, settings=None, tags=None, time_started='2022-11-22T09:54:09.656890Z', time_completed='2022-11-22T10:02:27.536947+00:00', transcript_id='generic_transcript_GyrFaMq3PHJv8yMgPD7Rzgc7NMDszbwd', summary_details={'summary_id': 'narrative_summary_YwibvmAWMDupwiQV9yx872kiKmCvti7M', 'summary_type': 'narrative'}), SummarizeJob(display_name='test-sdk-txt', job_name='job_9ckWVZyBBAwWkGtoEUMRKFN7VvzrS7Du', source='generic', job_status='SummaryComplete', metadata=None, settings=None, tags=None, time_started='2022-11-22T09:54:09.376112Z', time_completed='2022-11-22T10:02:14.632787+00:00', transcript_id='generic_transcript_Ra3FoCvDayrYgvZ5mXw9swxQBNeVbgBt', summary_details={'summary_id': 'reason_conclusion_summary_FWHSJmt2LfKoZBFV7SudoGwHrAvnvcpr', 'summary_type': 'reason_conclusion'}), ExtractJob(display_name='test-extraction-json', job_name='job_ZpbMLRsYKhD3NyYhnGLGKNkJjk4diSAU', source='generic', job_status='ExtractionComplete', metadata=None, settings=None, tags=None, time_started='2022-11-22T09:54:09.088674Z', time_completed='2022-11-22T10:02:46.676102+00:00', transcript_id='generic_transcript_EWWGknjeqLhhXDiNgX2HGBsVX9Pdkuf7'), ExtractJob(display_name='test-extraction-txt', job_name='job_Ya7X6k59QYAVEYv2L6dj3NrQh8jB7X79', source='generic', job_status='ExtractionComplete', metadata=None, settings=None, tags=None, time_started='2022-11-22T09:54:08.816073Z', time_completed='2022-11-22T10:02:44.743924+00:00', transcript_id='generic_transcript_FCVBfk7Vkaw6734nbysXcQ4HvMMUgKcA'), SummarizeJob(display_name='test-summary-api', job_name='job_AXjWdstxBDPhQmZuQY9Nzu4YKmdceRpy', source='generic', job_status='SummaryComplete', metadata=None, settings=None, tags=None, time_started='2022-11-22T09:54:07.555485Z', time_completed='2022-11-22T10:03:00.302128+00:00', transcript_id='generic_transcript_HwC9oXtG85yeLaoXhCLNu9hMkThbFSvw', summary_details={'summary_id': 'conversational_summary_Ri2xwGSdXD2SLxZdmSbQJkaPwTDxzqXD', 'summary_type': 'conversational'})])"
      ]
     },
     "execution_count": 8,
     "metadata": {},
     "output_type": "execute_result"
    }
   ],
   "source": [
    "from wordcab import Client\n",
    "\n",
    "with Client() as client:\n",
    "    jobs = client.list_jobs(client)\n",
    "\n",
    "jobs"
   ]
  },
  {
   "cell_type": "markdown",
   "metadata": {},
   "source": [
    "## Start Summary\n",
    "\n",
    "`start_summary` usage.\n",
    "\n",
    "#### With Text\n",
    "\n",
    "Let's start with a summary of a transcript stored as a text file."
   ]
  },
  {
   "cell_type": "code",
   "execution_count": 9,
   "metadata": {},
   "outputs": [
    {
     "data": {
      "text/plain": [
       "SummarizeJob(display_name='sample_txt', job_name='job_8zCLKSfbsLxTWjUitzakSLmd3c2LeK86', source='generic', job_status='Pending', metadata=None, settings=JobSettings(ephemeral_data=False, pipeline='transcribe,summarize', only_api=True, split_long_utterances=False), tags=None, time_started=None, time_completed=None, transcript_id=None, summary_details=None)"
      ]
     },
     "execution_count": 9,
     "metadata": {},
     "output_type": "execute_result"
    }
   ],
   "source": [
    "from wordcab.core_objects import GenericSource\n",
    "\n",
    "source = GenericSource(\"./samples/sample_1.txt\")\n",
    "job = start_summary(\n",
    "    source_object=source,\n",
    "    display_name=\"sample_txt\",\n",
    "    summary_type=\"no_speaker\",\n",
    "    summary_length=3,\n",
    "    tags=[\"sample\", \"text\"],\n",
    ")\n",
    "job"
   ]
  },
  {
   "cell_type": "code",
   "execution_count": 33,
   "metadata": {},
   "outputs": [
    {
     "data": {
      "text/plain": [
       "'SummaryComplete'"
      ]
     },
     "execution_count": 33,
     "metadata": {},
     "output_type": "execute_result"
    }
   ],
   "source": [
    "# Checking the job status\n",
    "job = retrieve_job(job.job_name)\n",
    "job.job_status"
   ]
  },
  {
   "cell_type": "code",
   "execution_count": 34,
   "metadata": {},
   "outputs": [
    {
     "data": {
      "text/plain": [
       "'no_speaker_summary_TpUaCDV3EW4PZi8Sa65gN6ssCRtMXnbE'"
      ]
     },
     "execution_count": 34,
     "metadata": {},
     "output_type": "execute_result"
    }
   ],
   "source": [
    "summary_id = job.summary_details[\"summary_id\"]\n",
    "summary_id"
   ]
  },
  {
   "cell_type": "code",
   "execution_count": 35,
   "metadata": {},
   "outputs": [
    {
     "name": "stdout",
     "output_type": "stream",
     "text": [
      "job_status: SummaryComplete\n",
      "summary_id: no_speaker_summary_TpUaCDV3EW4PZi8Sa65gN6ssCRtMXnbE\n",
      "display_name: sample_1\n",
      "job_name: job_QkxGDhrJmb8B4vzJxLa5b6RcSuKqGAPF\n",
      "process_time: None\n",
      "speaker_map: {'A': 'SPEAKER A', 'B': 'SPEAKER B'}\n",
      "source: generic\n",
      "summary_type: no_speaker\n",
      "summary: {'3': {'structured_summary': [StructuredSummary(summary='The home or office number is 4095-866-5088. the shipping address is 6800 beaumont, texas. The order of 1000 longstand red roses will be shipped within 24 hours.', summary_html='The home or office number is 4095-866-5088. the shipping address is 6800 beaumont, texas. The order of 1000 longstand red roses will be shipped within 24 hours.', end_index=1268, start_index=0, transcript_segment=[{'text': 'Thank you for calling Marcus Flores. How may I assist you?', 'speaker': 'A', 'end_index': 58, 'start_index': 0}, {'text': \"Hello. I'd like to order flowers and I think you have what I'm looking for.\", 'speaker': 'B', 'end_index': 134, 'start_index': 59}, {'text': \"I'll be happy to take care of your order. May I have your name, please?\", 'speaker': 'A', 'end_index': 206, 'start_index': 135}, {'text': 'Randall Thomas.', 'speaker': 'B', 'end_index': 222, 'start_index': 207}, {'text': 'Randall Thomas. Can you spell that for me?', 'speaker': 'A', 'end_index': 265, 'start_index': 223}, {'text': 'Randall, R-A-N-D-A-L.', 'speaker': 'B', 'end_index': 287, 'start_index': 266}, {'text': 'Thank you for that information, Randall. May I have your home or office number? Area code first?', 'speaker': 'A', 'end_index': 384, 'start_index': 288}, {'text': 'Area code 4095-866-5088.', 'speaker': 'B', 'end_index': 409, 'start_index': 385}, {'text': \"That's 409-866-5088. Do you have a fax number or email address?\", 'speaker': 'A', 'end_index': 473, 'start_index': 410}, {'text': 'My email is Randall Thomas@gmail.com.', 'speaker': 'B', 'end_index': 511, 'start_index': 474}, {'text': 'Randall Thomas@gmail.com. May I have your shipping address?', 'speaker': 'A', 'end_index': 571, 'start_index': 512}, {'text': '6800 Beaumont, Texas.', 'speaker': 'B', 'end_index': 593, 'start_index': 572}, {'text': 'Zip code is 77706 Gladys Avenue, Beaumont, Texas. Zip code 77706. Thank you for the information. What products are you interested in purchasing?', 'speaker': 'A', 'end_index': 738, 'start_index': 594}, {'text': 'Red roses. Probably a dozen.', 'speaker': 'B', 'end_index': 767, 'start_index': 739}, {'text': 'One dozen of red roses. Do you want longstands?', 'speaker': 'A', 'end_index': 815, 'start_index': 768}, {'text': 'Sure.', 'speaker': 'B', 'end_index': 821, 'start_index': 816}, {'text': 'All right, Reynold, let me process the order. One moment, please.', 'speaker': 'A', 'end_index': 887, 'start_index': 822}, {'text': 'Okay.', 'speaker': 'B', 'end_index': 893, 'start_index': 888}, {'text': \"Randall, you're ordering 1000 longstand red roses. The total amount of your order is $40 and it will be shipped to your address within 24 hours.\", 'speaker': 'A', 'end_index': 1038, 'start_index': 894}, {'text': 'I was looking to deliver MC roses.', 'speaker': 'B', 'end_index': 1073, 'start_index': 1039}, {'text': 'Again within 24 hours.', 'speaker': 'A', 'end_index': 1096, 'start_index': 1074}, {'text': 'Okay, no problem.', 'speaker': 'B', 'end_index': 1114, 'start_index': 1097}, {'text': 'Is there anything else I can help you with?', 'speaker': 'A', 'end_index': 1158, 'start_index': 1115}, {'text': \"That's all for now. Thanks.\", 'speaker': 'B', 'end_index': 1186, 'start_index': 1159}, {'text': \"No problem. Randall. Thank you for calling martha's Flores. Have a nice day. Bye.\", 'speaker': 'A', 'end_index': 1268, 'start_index': 1187}])]}}\n",
      "transcript_id: generic_transcript_8HbQ8aNFuxcgjmadtsGf8sjhPuhcKLdn\n",
      "time_started: 2022-11-23T21:55:04.376354Z\n",
      "time_completed: 2022-11-23T21:56:16.208708Z\n"
     ]
    }
   ],
   "source": [
    "summary = retrieve_summary(summary_id)\n",
    "for k, v in summary.__dict__.items():\n",
    "    print(f\"{k}: {v}\")"
   ]
  },
  {
   "cell_type": "code",
   "execution_count": 36,
   "metadata": {},
   "outputs": [
    {
     "name": "stdout",
     "output_type": "stream",
     "text": [
      "The home or office number is 4095-866-5088. the shipping address is 6800 beaumont, texas. The order of 1000 longstand red roses will be shipped within 24 hours.\n"
     ]
    }
   ],
   "source": [
    "for utterance in summary.summary[\"3\"][\"structured_summary\"]:\n",
    "    print(utterance.summary)"
   ]
  },
  {
   "cell_type": "markdown",
   "metadata": {},
   "source": [
    "#### With Audio"
   ]
  },
  {
   "cell_type": "code",
   "execution_count": 37,
   "metadata": {},
   "outputs": [],
   "source": [
    "from wordcab.core_objects import AudioSource\n",
    "\n",
    "source = AudioSource(\"./samples/sample_1.mp3\")\n",
    "job = start_summary(\n",
    "    source_object=source,\n",
    "    display_name=\"sample_audio\",\n",
    "    summary_type=\"narrative\",\n",
    "    summary_length=3,\n",
    "    tags=[\"sample\", \"audio\"],\n",
    ")"
   ]
  },
  {
   "cell_type": "code",
   "execution_count": 43,
   "metadata": {},
   "outputs": [
    {
     "data": {
      "text/plain": [
       "'SummaryComplete'"
      ]
     },
     "execution_count": 43,
     "metadata": {},
     "output_type": "execute_result"
    }
   ],
   "source": [
    "# Checking the job status\n",
    "job = retrieve_job(job.job_name)\n",
    "job.job_status"
   ]
  },
  {
   "cell_type": "code",
   "execution_count": 44,
   "metadata": {},
   "outputs": [
    {
     "data": {
      "text/plain": [
       "'narrative_summary_bXJ87bmToi9mRYoNSDbUEAGM8qQHN3qK'"
      ]
     },
     "execution_count": 44,
     "metadata": {},
     "output_type": "execute_result"
    }
   ],
   "source": [
    "summary_id = job.summary_details[\"summary_id\"]\n",
    "summary_id"
   ]
  },
  {
   "cell_type": "code",
   "execution_count": 45,
   "metadata": {},
   "outputs": [
    {
     "name": "stdout",
     "output_type": "stream",
     "text": [
      "job_status: SummaryComplete\n",
      "summary_id: narrative_summary_bXJ87bmToi9mRYoNSDbUEAGM8qQHN3qK\n",
      "display_name: sample_1\n",
      "job_name: job_8w5ZQjZfXw3XuuRYmfYhHLVWTtpCrvCp\n",
      "process_time: None\n",
      "speaker_map: {'A': 'SPEAKER A', 'B': 'SPEAKER B'}\n",
      "source: audio\n",
      "summary_type: narrative\n",
      "summary: {'3': {'structured_summary': [StructuredSummary(summary=\"SPEAKER A says they'll be happy to take care of the order. SPEAKER B notes that they'd like to order red roses. SPEAKER A says they're ordering 1000 longstand red roses. SPEAKER A mentions that it will be shipped within 24 hours.\", summary_html='<span class=\"speaker_a\">SPEAKER A</span> says they\\'ll be happy to take care of the order. <span class=\"speaker_b\">SPEAKER B</span> notes that they\\'d like to order red roses. <span class=\"speaker_a\">SPEAKER A</span> says they\\'re ordering 1000 longstand red roses. <span class=\"speaker_a\">SPEAKER A</span> mentions that it will be shipped within 24 hours.', end='00:01:48', start='00:00:00', timestamp_end=108912, timestamp_start=837, transcript_segment=[{'end': '00:00:03', 'text': 'Thank you for calling Marcus Flores. How may I assist you?', 'start': '00:00:00', 'speaker': 'A', 'timestamp_end': 3697, 'timestamp_start': 837}, {'end': '00:00:07', 'text': \"Hello. I'd like to order flowers and I think you have what I'm looking for.\", 'start': '00:00:03', 'speaker': 'B', 'timestamp_end': 7597, 'timestamp_start': 3805}, {'end': '00:00:10', 'text': \"I'll be happy to take care of your order. May I have your name, please?\", 'start': '00:00:07', 'speaker': 'A', 'timestamp_end': 10882, 'timestamp_start': 7705}, {'end': '00:00:12', 'text': 'Randall Thomas.', 'start': '00:00:11', 'speaker': 'B', 'timestamp_end': 12462, 'timestamp_start': 11035}, {'end': '00:00:15', 'text': 'Randall Thomas. Can you spell that for me?', 'start': '00:00:12', 'speaker': 'A', 'timestamp_end': 15382, 'timestamp_start': 12612}, {'end': '00:00:18', 'text': 'Randall, R-A-N-D-A-L.', 'start': '00:00:15', 'speaker': 'B', 'timestamp_end': 18875, 'timestamp_start': 15535}, {'end': '00:00:27', 'text': 'Thank you for that information, Randall. May I have your home or office number? Area code first?', 'start': '00:00:22', 'speaker': 'A', 'timestamp_end': 27322, 'timestamp_start': 22612}, {'end': '00:00:34', 'text': 'Area code 4095-866-5088.', 'start': '00:00:27', 'speaker': 'B', 'timestamp_end': 34237, 'timestamp_start': 27430}, {'end': '00:00:40', 'text': \"That's 409-866-5088. Do you have a fax number or email address?\", 'start': '00:00:34', 'speaker': 'A', 'timestamp_end': 40927, 'timestamp_start': 34375}, {'end': '00:00:46', 'text': 'My email is Randall Thomas@gmail.com.', 'start': '00:00:41', 'speaker': 'B', 'timestamp_end': 46717, 'timestamp_start': 41095}, {'end': '00:00:51', 'text': 'Randall Thomas@gmail.com. May I have your shipping address?', 'start': '00:00:46', 'speaker': 'A', 'timestamp_end': 51832, 'timestamp_start': 46915}, {'end': '00:00:57', 'text': '6800 Beaumont, Texas.', 'start': '00:00:51', 'speaker': 'B', 'timestamp_end': 57587, 'timestamp_start': 51985}, {'end': '00:01:10', 'text': 'Zip code is 77706 Gladys Avenue, Beaumont, Texas. Zip code 77706. Thank you for the information. What products are you interested in purchasing?', 'start': '00:00:58', 'speaker': 'A', 'timestamp_end': 70947, 'timestamp_start': 58087}, {'end': '00:01:13', 'text': 'Red roses. Probably a dozen.', 'start': '00:01:11', 'speaker': 'B', 'timestamp_end': 73412, 'timestamp_start': 71142}, {'end': '00:01:16', 'text': 'One dozen of red roses. Do you want longstands?', 'start': '00:01:13', 'speaker': 'A', 'timestamp_end': 76857, 'timestamp_start': 73912}, {'end': '00:01:17', 'text': 'Sure.', 'start': '00:01:16', 'speaker': 'B', 'timestamp_end': 77557, 'timestamp_start': 76947}, {'end': '00:01:21', 'text': 'All right, Reynold, let me process the order. One moment, please.', 'start': '00:01:17', 'speaker': 'A', 'timestamp_end': 81425, 'timestamp_start': 77710}, {'end': '00:01:23', 'text': 'Okay.', 'start': '00:01:22', 'speaker': 'B', 'timestamp_end': 83225, 'timestamp_start': 82462}, {'end': '00:01:34', 'text': \"Randall, you're ordering 1000 longstand red roses. The total amount of your order is $40 and it will be shipped to your address within 24 hours.\", 'start': '00:01:25', 'speaker': 'A', 'timestamp_end': 94057, 'timestamp_start': 85012}, {'end': '00:01:36', 'text': 'I was looking to deliver MC roses.', 'start': '00:01:34', 'speaker': 'B', 'timestamp_end': 96192, 'timestamp_start': 94210}, {'end': '00:01:38', 'text': 'Again within 24 hours.', 'start': '00:01:36', 'speaker': 'A', 'timestamp_end': 98542, 'timestamp_start': 96252}, {'end': '00:01:39', 'text': 'Okay, no problem.', 'start': '00:01:38', 'speaker': 'B', 'timestamp_end': 99982, 'timestamp_start': 98740}, {'end': '00:01:42', 'text': 'Is there anything else I can help you with?', 'start': '00:01:40', 'speaker': 'A', 'timestamp_end': 102397, 'timestamp_start': 100135}, {'end': '00:01:44', 'text': \"That's all for now. Thanks.\", 'start': '00:01:42', 'speaker': 'B', 'timestamp_end': 104212, 'timestamp_start': 102580}, {'end': '00:01:48', 'text': \"No problem. Randall. Thank you for calling martha's Flores. Have a nice day. Bye.\", 'start': '00:01:44', 'speaker': 'A', 'timestamp_end': 108912, 'timestamp_start': 104350}])]}}\n",
      "transcript_id: audio_transcript_DcpYZFH924yJkBKiSrTT9giyjv39QzHG\n",
      "time_started: 2022-11-23T21:59:28.618117Z\n",
      "time_completed: 2022-11-23T22:01:09.057822Z\n"
     ]
    }
   ],
   "source": [
    "summary = retrieve_summary(summary_id)\n",
    "for k, v in summary.__dict__.items():\n",
    "    print(f\"{k}: {v}\")"
   ]
  },
  {
   "cell_type": "code",
   "execution_count": 46,
   "metadata": {},
   "outputs": [
    {
     "name": "stdout",
     "output_type": "stream",
     "text": [
      "SPEAKER A says they'll be happy to take care of the order. SPEAKER B notes that they'd like to order red roses. SPEAKER A says they're ordering 1000 longstand red roses. SPEAKER A mentions that it will be shipped within 24 hours.\n"
     ]
    }
   ],
   "source": [
    "for utterance in summary.summary[\"3\"][\"structured_summary\"]:\n",
    "    print(utterance.summary)"
   ]
  },
  {
   "cell_type": "markdown",
   "metadata": {},
   "source": [
    "#### More on the official documentation: https://wordcab-python.readthedocs.io/en/latest/\n",
    "\n",
    "Thanks for watching 🤗!"
   ]
  },
  {
   "cell_type": "markdown",
   "metadata": {},
   "source": []
  }
 ],
 "metadata": {
  "kernelspec": {
   "display_name": "Python 3.8.15 ('sdk')",
   "language": "python",
   "name": "python3"
  },
  "language_info": {
   "codemirror_mode": {
    "name": "ipython",
    "version": 3
   },
   "file_extension": ".py",
   "mimetype": "text/x-python",
   "name": "python",
   "nbconvert_exporter": "python",
   "pygments_lexer": "ipython3",
   "version": "3.8.15"
  },
  "orig_nbformat": 4,
  "vscode": {
   "interpreter": {
    "hash": "a5e7802a138ef4612170ff921f873c06e52bcb268c5c5935b6c729d00f394ddb"
   }
  }
 },
 "nbformat": 4,
 "nbformat_minor": 2
}
